{
 "cells": [
  {
   "cell_type": "markdown",
   "id": "choice-syria",
   "metadata": {},
   "source": [
    "# Versión 1 - Tensorflow"
   ]
  },
  {
   "cell_type": "code",
   "execution_count": 1,
   "id": "laughing-cliff",
   "metadata": {},
   "outputs": [],
   "source": [
    "#Importando Librerías\n",
    "from tensorflow.keras.preprocessing.text import Tokenizer\n",
    "from tensorflow.keras.preprocessing.sequence import pad_sequences\n",
    "from tensorflow.keras import optimizers\n",
    "import tensorflow as tf\n",
    "from sklearn.model_selection import train_test_split\n",
    "import numpy as np\n",
    "import pandas as pd\n",
    "import tensorflow as tf\n",
    "import matplotlib.pyplot as plt\n",
    "import seaborn as sns"
   ]
  },
  {
   "cell_type": "code",
   "execution_count": 2,
   "id": "checked-machine",
   "metadata": {},
   "outputs": [],
   "source": [
    "#Importando data csv\n",
    "data = pd.read_csv('./all-data.csv', names=['Label', 'Text'], encoding='latin-1')\n",
    "data2=data"
   ]
  },
  {
   "cell_type": "code",
   "execution_count": 3,
   "id": "temporal-spray",
   "metadata": {},
   "outputs": [
    {
     "name": "stdout",
     "output_type": "stream",
     "text": [
      "<class 'pandas.core.frame.DataFrame'>\n",
      "RangeIndex: 4846 entries, 0 to 4845\n",
      "Data columns (total 2 columns):\n",
      " #   Column  Non-Null Count  Dtype \n",
      "---  ------  --------------  ----- \n",
      " 0   Label   4846 non-null   object\n",
      " 1   Text    4846 non-null   object\n",
      "dtypes: object(2)\n",
      "memory usage: 75.8+ KB\n"
     ]
    }
   ],
   "source": [
    "data.info()"
   ]
  },
  {
   "cell_type": "code",
   "execution_count": 4,
   "id": "moral-memphis",
   "metadata": {},
   "outputs": [
    {
     "data": {
      "text/html": [
       "<div>\n",
       "<style scoped>\n",
       "    .dataframe tbody tr th:only-of-type {\n",
       "        vertical-align: middle;\n",
       "    }\n",
       "\n",
       "    .dataframe tbody tr th {\n",
       "        vertical-align: top;\n",
       "    }\n",
       "\n",
       "    .dataframe thead th {\n",
       "        text-align: right;\n",
       "    }\n",
       "</style>\n",
       "<table border=\"1\" class=\"dataframe\">\n",
       "  <thead>\n",
       "    <tr style=\"text-align: right;\">\n",
       "      <th></th>\n",
       "      <th>Label</th>\n",
       "      <th>Text</th>\n",
       "    </tr>\n",
       "  </thead>\n",
       "  <tbody>\n",
       "    <tr>\n",
       "      <th>0</th>\n",
       "      <td>neutral</td>\n",
       "      <td>According to Gran , the company has no plans t...</td>\n",
       "    </tr>\n",
       "    <tr>\n",
       "      <th>1</th>\n",
       "      <td>neutral</td>\n",
       "      <td>Technopolis plans to develop in stages an area...</td>\n",
       "    </tr>\n",
       "    <tr>\n",
       "      <th>2</th>\n",
       "      <td>negative</td>\n",
       "      <td>The international electronic industry company ...</td>\n",
       "    </tr>\n",
       "    <tr>\n",
       "      <th>3</th>\n",
       "      <td>positive</td>\n",
       "      <td>With the new production plant the company woul...</td>\n",
       "    </tr>\n",
       "    <tr>\n",
       "      <th>4</th>\n",
       "      <td>positive</td>\n",
       "      <td>According to the company 's updated strategy f...</td>\n",
       "    </tr>\n",
       "    <tr>\n",
       "      <th>5</th>\n",
       "      <td>positive</td>\n",
       "      <td>FINANCING OF ASPOCOMP 'S GROWTH Aspocomp is ag...</td>\n",
       "    </tr>\n",
       "    <tr>\n",
       "      <th>6</th>\n",
       "      <td>positive</td>\n",
       "      <td>For the last quarter of 2010 , Componenta 's n...</td>\n",
       "    </tr>\n",
       "    <tr>\n",
       "      <th>7</th>\n",
       "      <td>positive</td>\n",
       "      <td>In the third quarter of 2010 , net sales incre...</td>\n",
       "    </tr>\n",
       "    <tr>\n",
       "      <th>8</th>\n",
       "      <td>positive</td>\n",
       "      <td>Operating profit rose to EUR 13.1 mn from EUR ...</td>\n",
       "    </tr>\n",
       "    <tr>\n",
       "      <th>9</th>\n",
       "      <td>positive</td>\n",
       "      <td>Operating profit totalled EUR 21.1 mn , up fro...</td>\n",
       "    </tr>\n",
       "  </tbody>\n",
       "</table>\n",
       "</div>"
      ],
      "text/plain": [
       "      Label                                               Text\n",
       "0   neutral  According to Gran , the company has no plans t...\n",
       "1   neutral  Technopolis plans to develop in stages an area...\n",
       "2  negative  The international electronic industry company ...\n",
       "3  positive  With the new production plant the company woul...\n",
       "4  positive  According to the company 's updated strategy f...\n",
       "5  positive  FINANCING OF ASPOCOMP 'S GROWTH Aspocomp is ag...\n",
       "6  positive  For the last quarter of 2010 , Componenta 's n...\n",
       "7  positive  In the third quarter of 2010 , net sales incre...\n",
       "8  positive  Operating profit rose to EUR 13.1 mn from EUR ...\n",
       "9  positive  Operating profit totalled EUR 21.1 mn , up fro..."
      ]
     },
     "execution_count": 4,
     "metadata": {},
     "output_type": "execute_result"
    }
   ],
   "source": [
    "data.head(10)"
   ]
  },
  {
   "cell_type": "code",
   "execution_count": 5,
   "id": "magnetic-transportation",
   "metadata": {},
   "outputs": [
    {
     "name": "stderr",
     "output_type": "stream",
     "text": [
      "C:\\Users\\Gary\\anaconda3\\envs\\py_galileo_2021\\lib\\site-packages\\seaborn\\_decorators.py:36: FutureWarning: Pass the following variables as keyword args: x, y. From version 0.12, the only valid positional argument will be `data`, and passing other arguments without an explicit keyword will result in an error or misinterpretation.\n",
      "  warnings.warn(\n"
     ]
    },
    {
     "data": {
      "image/png": "[encoded data removed]",
      "text/plain": [
       "<Figure size 864x288 with 1 Axes>"
      ]
     },
     "metadata": {
      "needs_background": "light"
     },
     "output_type": "display_data"
    }
   ],
   "source": [
    "cnt_pro = data['Label'].value_counts()\n",
    "plt.figure(figsize=(12,4))\n",
    "sns.barplot(cnt_pro.index, cnt_pro.values, alpha=0.8)\n",
    "plt.ylabel('Number of Occurrences', fontsize=12)\n",
    "plt.xlabel('sentiment', fontsize=12)\n",
    "plt.xticks(rotation=90)\n",
    "plt.show();\n",
    "\n"
   ]
  },
  {
   "cell_type": "code",
   "execution_count": 6,
   "id": "vocational-connecticut",
   "metadata": {},
   "outputs": [],
   "source": [
    "#Preprocesamiento\n",
    "def busca_secuencias(textos):\n",
    "    tokenizer = Tokenizer() #vectorizando los textos a utilizar\n",
    "    tokenizer.fit_on_texts(textos)\n",
    "    secuencias = tokenizer.texts_to_sequences(textos)\n",
    "#    print(\"Vocab length:\", len(tokenizer.word_index) + 1)\n",
    "    max_seq_length = np.max(list(map(lambda x: len(x), secuencias)))\n",
    "#    print(\"Maximum sequence length:\", max_seq_length)\n",
    "    secuencias = pad_sequences(secuencias, maxlen=max_seq_length, padding='post')\n",
    "    return secuencias"
   ]
  },
  {
   "cell_type": "code",
   "execution_count": 7,
   "id": "skilled-fault",
   "metadata": {},
   "outputs": [],
   "source": [
    "def preprocess_inputs(df):\n",
    "    df = df.copy()\n",
    "    \n",
    "    secuencias = busca_secuencias(df['Text'])\n",
    "    \n",
    "    label_mapping = {\n",
    "        'negative': 0,\n",
    "        'neutral': 1,\n",
    "        'positive': 2\n",
    "    }\n",
    "    \n",
    "    y = df['Label'].replace(label_mapping)\n",
    "    \n",
    "    train_sequences, test_sequences, y_train, y_test = train_test_split(secuencias, y, train_size=0.9, shuffle=True, random_state=1)\n",
    "    \n",
    "    return train_sequences, test_sequences, y_train, y_test"
   ]
  },
  {
   "cell_type": "code",
   "execution_count": 8,
   "id": "third-detection",
   "metadata": {},
   "outputs": [],
   "source": [
    "train_sequences, test_sequences, y_train, y_test = preprocess_inputs(data)"
   ]
  },
  {
   "cell_type": "code",
   "execution_count": 17,
   "id": "banned-republic",
   "metadata": {},
   "outputs": [],
   "source": [
    "inputs = tf.keras.Input(shape=(train_sequences.shape[1],))\n",
    "x = tf.keras.layers.Embedding(\n",
    "    input_dim=10123,\n",
    "    output_dim=128,\n",
    "    input_length=train_sequences.shape[1]\n",
    "    )(inputs)\n",
    "x = tf.keras.layers.GRU(256, return_sequences=True, activation='tanh')(x)\n",
    "x = tf.keras.layers.Flatten()(x)\n",
    "outputs = tf.keras.layers.Dense(60, activation='softmax')(x)\n",
    "\n",
    "model = tf.keras.Model(inputs=inputs, outputs=outputs)\n",
    "\n",
    "#Prueba1\n",
    "#model.compile(optimizer='adam', loss='sparse_categorical_crossentropy', metrics=['accuracy'])\n",
    "#model.compile(optimizer='Nadam', loss='sparse_categorical_crossentropy', metrics=['accuracy'])\n",
    "model.compile(optimizer='SGD', loss='sparse_categorical_crossentropy', metrics=['accuracy'])\n",
    "#model.compile(optimizer='adam', loss='sparse_categorical_crossentropy', metrics=['accuracy'])\n",
    "\n",
    "\n"
   ]
  },
  {
   "cell_type": "code",
   "execution_count": 11,
   "id": "russian-principal",
   "metadata": {},
   "outputs": [
    {
     "name": "stdout",
     "output_type": "stream",
     "text": [
      "Epoch 1/50\n",
      "981/981 [==============================] - 81s 83ms/step - loss: 0.7633 - accuracy: 0.6832 - val_loss: 0.7355 - val_accuracy: 0.6979\n",
      "Epoch 2/50\n",
      "981/981 [==============================] - 83s 85ms/step - loss: 0.2854 - accuracy: 0.8879 - val_loss: 0.8854 - val_accuracy: 0.6979\n",
      "Epoch 3/50\n",
      "981/981 [==============================] - 89s 90ms/step - loss: 0.0834 - accuracy: 0.9743 - val_loss: 1.0783 - val_accuracy: 0.6934\n",
      "Epoch 4/50\n",
      "981/981 [==============================] - 81s 83ms/step - loss: 0.0445 - accuracy: 0.9896 - val_loss: 1.2248 - val_accuracy: 0.7346\n",
      "Epoch 5/50\n",
      "981/981 [==============================] - 94s 96ms/step - loss: 0.0260 - accuracy: 0.9952 - val_loss: 1.3187 - val_accuracy: 0.7185\n",
      "Epoch 6/50\n",
      "981/981 [==============================] - 86s 88ms/step - loss: 0.0267 - accuracy: 0.9944 - val_loss: 1.4705 - val_accuracy: 0.7048\n",
      "Epoch 7/50\n",
      "981/981 [==============================] - 80s 82ms/step - loss: 0.0371 - accuracy: 0.9931 - val_loss: 1.8969 - val_accuracy: 0.7254\n",
      "Epoch 8/50\n",
      "981/981 [==============================] - 80s 82ms/step - loss: 0.0340 - accuracy: 0.9908 - val_loss: 1.7768 - val_accuracy: 0.7117\n",
      "Epoch 9/50\n",
      "981/981 [==============================] - 85s 87ms/step - loss: 0.0151 - accuracy: 0.9964 - val_loss: 2.1222 - val_accuracy: 0.7094\n"
     ]
    }
   ],
   "source": [
    "#Adam - train size 0.9\n",
    "history = model.fit(train_sequences,y_train,validation_split=0.1,batch_size=4,epochs=50,callbacks=[\n",
    "            tf.keras.callbacks.EarlyStopping(\n",
    "            monitor='val_loss',\n",
    "            patience=8,\n",
    "            restore_best_weights=True)])"
   ]
  },
  {
   "cell_type": "code",
   "execution_count": 15,
   "id": "nearby-hanging",
   "metadata": {},
   "outputs": [
    {
     "name": "stdout",
     "output_type": "stream",
     "text": [
      "Epoch 1/100\n",
      "246/246 [==============================] - 31s 128ms/step - loss: 0.8542 - accuracy: 0.6509 - val_loss: 0.8492 - val_accuracy: 0.6110\n",
      "Epoch 2/100\n",
      "246/246 [==============================] - 33s 134ms/step - loss: 0.4473 - accuracy: 0.8285 - val_loss: 0.6806 - val_accuracy: 0.7254\n",
      "Epoch 3/100\n",
      "246/246 [==============================] - 34s 137ms/step - loss: 0.1695 - accuracy: 0.9414 - val_loss: 0.8589 - val_accuracy: 0.7368\n",
      "Epoch 4/100\n",
      "246/246 [==============================] - 33s 133ms/step - loss: 0.0715 - accuracy: 0.9809 - val_loss: 1.0673 - val_accuracy: 0.7323\n",
      "Epoch 5/100\n",
      "246/246 [==============================] - 35s 141ms/step - loss: 0.0324 - accuracy: 0.9911 - val_loss: 1.2339 - val_accuracy: 0.7346\n",
      "Epoch 6/100\n",
      "246/246 [==============================] - 36s 145ms/step - loss: 0.0195 - accuracy: 0.9957 - val_loss: 1.1528 - val_accuracy: 0.7231\n"
     ]
    }
   ],
   "source": [
    "#Nadam\n",
    "history2 = model.fit(train_sequences,y_train,validation_split=0.1,batch_size=16,epochs=100,callbacks=[\n",
    "            tf.keras.callbacks.EarlyStopping(\n",
    "            monitor='val_loss',\n",
    "            patience=4,\n",
    "            restore_best_weights=True)])"
   ]
  },
  {
   "cell_type": "code",
   "execution_count": 18,
   "id": "developmental-treaty",
   "metadata": {},
   "outputs": [
    {
     "name": "stdout",
     "output_type": "stream",
     "text": [
      "Epoch 1/100\n",
      "491/491 [==============================] - 42s 85ms/step - loss: 1.0935 - accuracy: 0.5754 - val_loss: 1.0091 - val_accuracy: 0.4874\n",
      "Epoch 2/100\n",
      "491/491 [==============================] - 47s 96ms/step - loss: 0.9459 - accuracy: 0.5780 - val_loss: 0.9446 - val_accuracy: 0.5789\n",
      "Epoch 3/100\n",
      "491/491 [==============================] - 44s 90ms/step - loss: 0.9332 - accuracy: 0.5872 - val_loss: 1.1116 - val_accuracy: 0.3089\n",
      "Epoch 4/100\n",
      "491/491 [==============================] - 43s 87ms/step - loss: 0.9265 - accuracy: 0.5930 - val_loss: 0.9380 - val_accuracy: 0.5789\n",
      "Epoch 5/100\n",
      "491/491 [==============================] - 41s 84ms/step - loss: 0.9188 - accuracy: 0.5917 - val_loss: 0.9320 - val_accuracy: 0.5789\n",
      "Epoch 6/100\n",
      "491/491 [==============================] - 39s 80ms/step - loss: 0.9155 - accuracy: 0.5968 - val_loss: 0.9265 - val_accuracy: 0.5812\n",
      "Epoch 7/100\n",
      "491/491 [==============================] - 39s 79ms/step - loss: 0.9027 - accuracy: 0.6014 - val_loss: 0.9184 - val_accuracy: 0.6087\n",
      "Epoch 8/100\n",
      "491/491 [==============================] - 40s 82ms/step - loss: 0.8906 - accuracy: 0.6106 - val_loss: 0.9361 - val_accuracy: 0.5927\n",
      "Epoch 9/100\n",
      "491/491 [==============================] - 41s 84ms/step - loss: 0.8636 - accuracy: 0.6312 - val_loss: 0.9077 - val_accuracy: 0.5927\n",
      "Epoch 10/100\n",
      "491/491 [==============================] - 39s 80ms/step - loss: 0.8429 - accuracy: 0.6437 - val_loss: 0.8533 - val_accuracy: 0.6339\n",
      "Epoch 11/100\n",
      "491/491 [==============================] - 41s 84ms/step - loss: 0.8201 - accuracy: 0.6501 - val_loss: 0.8470 - val_accuracy: 0.6293\n",
      "Epoch 12/100\n",
      "491/491 [==============================] - 46s 94ms/step - loss: 0.8067 - accuracy: 0.6593 - val_loss: 0.8526 - val_accuracy: 0.6407\n",
      "Epoch 13/100\n",
      "491/491 [==============================] - 40s 82ms/step - loss: 0.7887 - accuracy: 0.6595 - val_loss: 0.8923 - val_accuracy: 0.5835\n",
      "Epoch 14/100\n",
      "491/491 [==============================] - 42s 85ms/step - loss: 0.7766 - accuracy: 0.6677 - val_loss: 0.8500 - val_accuracy: 0.6476\n",
      "Epoch 15/100\n",
      "491/491 [==============================] - 42s 85ms/step - loss: 0.7592 - accuracy: 0.6746 - val_loss: 0.9237 - val_accuracy: 0.6339\n"
     ]
    }
   ],
   "source": [
    "#SDG\n",
    "history3 = model.fit(train_sequences,y_train,validation_split=0.1,batch_size=8,epochs=100,callbacks=[\n",
    "            tf.keras.callbacks.EarlyStopping(\n",
    "            monitor='val_loss',\n",
    "            patience=4,\n",
    "            restore_best_weights=True)])"
   ]
  },
  {
   "cell_type": "code",
   "execution_count": 19,
   "id": "amateur-orientation",
   "metadata": {},
   "outputs": [
    {
     "name": "stdout",
     "output_type": "stream",
     "text": [
      "    Test Loss: 0.85142\n",
      "Test Accuracy: 63.71%\n"
     ]
    }
   ],
   "source": [
    "results = model.evaluate(test_sequences, y_test, verbose=0)\n",
    "\n",
    "print(\"    Test Loss: {:.5f}\".format(results[0]))\n",
    "print(\"Test Accuracy: {:.2f}%\".format(results[1] * 100))"
   ]
  },
  {
   "cell_type": "code",
   "execution_count": 20,
   "id": "genuine-carry",
   "metadata": {},
   "outputs": [
    {
     "data": {
      "image/png": "[encoded data removed]",
      "text/plain": [
       "<Figure size 432x288 with 1 Axes>"
      ]
     },
     "metadata": {
      "needs_background": "light"
     },
     "output_type": "display_data"
    }
   ],
   "source": [
    "plt.plot(history.history['val_loss'], color = 'r', label = \"validation loss\")\n",
    "plt.title(\"Test Loss\")\n",
    "plt.xlabel(\"Number of Epochs\")\n",
    "plt.ylabel(\"Loss\")\n",
    "plt.legend()\n",
    "plt.show()"
   ]
  },
  {
   "cell_type": "code",
   "execution_count": 21,
   "id": "revolutionary-influence",
   "metadata": {},
   "outputs": [
    {
     "data": {
      "image/png": "[encoded data removed]",
      "text/plain": [
       "<Figure size 432x288 with 1 Axes>"
      ]
     },
     "metadata": {
      "needs_background": "light"
     },
     "output_type": "display_data"
    }
   ],
   "source": [
    "plt.plot(history.history['loss'], color = 'b', label = \"Accuracy\")\n",
    "plt.title(\"Test Accuracy\")\n",
    "plt.xlabel(\"Number of Epochs\")\n",
    "plt.ylabel(\"Accuracy\")\n",
    "plt.legend()\n",
    "plt.show()"
   ]
  },
  {
   "cell_type": "code",
   "execution_count": 59,
   "id": "continental-baker",
   "metadata": {},
   "outputs": [
    {
     "data": {
      "image/png": "[encoded data removed]",
      "text/plain": [
       "<Figure size 432x288 with 1 Axes>"
      ]
     },
     "metadata": {
      "needs_background": "light"
     },
     "output_type": "display_data"
    }
   ],
   "source": [
    "plt.plot(history.history['accuracy'], color = 'b', label = \"Accuracy\")\n",
    "plt.plot(history.history['val_accuracy'], color = 'r', label = \"Val_Accuracy\")\n",
    "plt.title(\"Adam Test Accuracy\")\n",
    "plt.xlabel(\"Number of Epochs\")\n",
    "plt.ylabel(\"Accuracy\")\n",
    "plt.legend()\n",
    "plt.show()"
   ]
  },
  {
   "cell_type": "code",
   "execution_count": 54,
   "id": "relevant-asset",
   "metadata": {},
   "outputs": [
    {
     "data": {
      "image/png": "[encoded data removed]",
      "text/plain": [
       "<Figure size 432x288 with 1 Axes>"
      ]
     },
     "metadata": {
      "needs_background": "light"
     },
     "output_type": "display_data"
    }
   ],
   "source": [
    "plt.plot(history2.history['accuracy'], color = 'b', label = \"Accuracy\")\n",
    "plt.plot(history2.history['val_accuracy'], color = 'r', label = \"Val_Accuracy\")\n",
    "plt.title(\"Nadam Test Accuracy\")\n",
    "plt.xlabel(\"Number of Epochs\")\n",
    "plt.ylabel(\"Accuracy\")\n",
    "plt.legend()\n",
    "plt.show()"
   ]
  },
  {
   "cell_type": "code",
   "execution_count": 55,
   "id": "thrown-stake",
   "metadata": {},
   "outputs": [
    {
     "data": {
      "image/png": "[encoded data removed]",
      "text/plain": [
       "<Figure size 432x288 with 1 Axes>"
      ]
     },
     "metadata": {
      "needs_background": "light"
     },
     "output_type": "display_data"
    }
   ],
   "source": [
    "plt.plot(history3.history['accuracy'], color = 'b', label = \"Accuracy\")\n",
    "plt.plot(history3.history['val_accuracy'], color = 'r', label = \"Val_Accuracy\")\n",
    "plt.title(\"SGD Test Accuracy\")\n",
    "plt.xlabel(\"Number of Epochs\")\n",
    "plt.ylabel(\"Accuracy\")\n",
    "plt.legend()\n",
    "plt.show()"
   ]
  },
  {
   "cell_type": "code",
   "execution_count": null,
   "id": "lucky-wheel",
   "metadata": {},
   "outputs": [],
   "source": [
    "plt.plot(history3.history['accuracy'])\n",
    "plt.plot(history3.history['val_accuracy'])\n",
    "plt.title('model accuracy')\n",
    "plt.ylabel('accuracy')\n",
    "plt.xlabel('epoch')\n",
    "plt.legend(['train', 'val'], loc='upper left')\n",
    "plt.show()"
   ]
  },
  {
   "cell_type": "markdown",
   "id": "flying-blank",
   "metadata": {},
   "source": [
    "# Version 2 - Keras"
   ]
  },
  {
   "cell_type": "code",
   "execution_count": 25,
   "id": "involved-miami",
   "metadata": {},
   "outputs": [],
   "source": [
    "from sklearn.feature_extraction.text import CountVectorizer\n",
    "from keras.preprocessing.text import Tokenizer\n",
    "from keras.preprocessing.sequence import pad_sequences\n",
    "from keras.models import Sequential\n",
    "from keras.layers import Dense, Embedding, LSTM, SpatialDropout1D\n",
    "from sklearn.model_selection import train_test_split\n",
    "from keras.utils.np_utils import to_categorical\n",
    "import re"
   ]
  },
  {
   "cell_type": "code",
   "execution_count": 26,
   "id": "copyrighted-spectacular",
   "metadata": {},
   "outputs": [],
   "source": [
    "#Quitamos el label Neutral para mejorar el accuracy de la versión anterior.\n",
    "data2 = data2[['Label','Text']]\n",
    "data2 = data2[data2.Label != \"neutral\"]\n",
    "data2['Text'] = data2['Text'].apply(lambda x: x.lower())\n",
    "data2['Text'] = data2['Text'].apply((lambda x: re.sub('[^a-zA-z0-9\\s]','',x)))\n"
   ]
  },
  {
   "cell_type": "code",
   "execution_count": 27,
   "id": "collect-yorkshire",
   "metadata": {},
   "outputs": [
    {
     "name": "stdout",
     "output_type": "stream",
     "text": [
      "2726\n",
      "1208\n"
     ]
    }
   ],
   "source": [
    "print(data2[ data2['Label'] == 'positive'].size)\n",
    "print(data2[ data2['Label'] == 'negative'].size)"
   ]
  },
  {
   "cell_type": "code",
   "execution_count": 28,
   "id": "critical-delicious",
   "metadata": {},
   "outputs": [],
   "source": [
    "for idx,row in data.iterrows():\n",
    "    row[0] = row[0].replace('rt',' ')\n",
    "    \n",
    "max_fatures = 2000\n",
    "tokenizer = Tokenizer(num_words=max_fatures, split=' ')\n",
    "tokenizer.fit_on_texts(data2['Text'].values)\n",
    "X = tokenizer.texts_to_sequences(data2['Text'].values)\n",
    "X = pad_sequences(X)"
   ]
  },
  {
   "cell_type": "code",
   "execution_count": 29,
   "id": "broken-visitor",
   "metadata": {},
   "outputs": [
    {
     "name": "stdout",
     "output_type": "stream",
     "text": [
      "Model: \"sequential\"\n",
      "_________________________________________________________________\n",
      "Layer (type)                 Output Shape              Param #   \n",
      "=================================================================\n",
      "embedding_7 (Embedding)      (None, 46, 10123)         20246000  \n",
      "_________________________________________________________________\n",
      "spatial_dropout1d (SpatialDr (None, 46, 10123)         0         \n",
      "_________________________________________________________________\n",
      "lstm (LSTM)                  (None, 128)               5249024   \n",
      "_________________________________________________________________\n",
      "dense_7 (Dense)              (None, 2)                 258       \n",
      "=================================================================\n",
      "Total params: 25,495,282\n",
      "Trainable params: 25,495,282\n",
      "Non-trainable params: 0\n",
      "_________________________________________________________________\n",
      "None\n"
     ]
    }
   ],
   "source": [
    "embed_dim = 10123\n",
    "lstm_out = 128\n",
    "\n",
    "model2 = Sequential()\n",
    "model2.add(Embedding(max_fatures, embed_dim,input_length = X.shape[1]))\n",
    "model2.add(SpatialDropout1D(0.4))\n",
    "model2.add(LSTM(lstm_out, dropout=0.2, recurrent_dropout=0.2))\n",
    "model2.add(Dense(2,activation='softmax'))\n",
    "model2.compile(loss = 'categorical_crossentropy', optimizer='adam',metrics = ['accuracy'])\n",
    "print(model2.summary())"
   ]
  },
  {
   "cell_type": "code",
   "execution_count": 30,
   "id": "constant-israeli",
   "metadata": {},
   "outputs": [
    {
     "name": "stdout",
     "output_type": "stream",
     "text": [
      "(1573, 46) (1573, 2)\n",
      "(394, 46) (394, 2)\n"
     ]
    }
   ],
   "source": [
    "Y = pd.get_dummies(data2['Label']).values\n",
    "X_train, X_test, Y_train, Y_test = train_test_split(X,Y, test_size = 0.20, random_state = 42)\n",
    "print(X_train.shape,Y_train.shape)\n",
    "print(X_test.shape,Y_test.shape)"
   ]
  },
  {
   "cell_type": "code",
   "execution_count": null,
   "id": "fourth-values",
   "metadata": {},
   "outputs": [],
   "source": [
    "#Y_train = to_categorical(Y_train, 3)\n",
    "#Y_test = to_categorical(Y_test, 3)"
   ]
  },
  {
   "cell_type": "code",
   "execution_count": 56,
   "id": "commercial-electronics",
   "metadata": {},
   "outputs": [
    {
     "name": "stdout",
     "output_type": "stream",
     "text": [
      "Epoch 1/10\n",
      "99/99 - 215s - loss: 0.0063 - accuracy: 0.9994 - val_loss: 0.9532 - val_accuracy: 0.8249\n",
      "Epoch 2/10\n",
      "99/99 - 219s - loss: 0.0044 - accuracy: 0.9981 - val_loss: 1.0094 - val_accuracy: 0.8477\n",
      "Epoch 3/10\n",
      "99/99 - 215s - loss: 6.5546e-04 - accuracy: 1.0000 - val_loss: 1.0482 - val_accuracy: 0.8477\n",
      "Epoch 4/10\n",
      "99/99 - 215s - loss: 3.1524e-04 - accuracy: 1.0000 - val_loss: 1.0837 - val_accuracy: 0.8477\n",
      "Epoch 5/10\n",
      "99/99 - 216s - loss: 2.3716e-04 - accuracy: 1.0000 - val_loss: 1.1118 - val_accuracy: 0.8452\n",
      "Epoch 6/10\n",
      "99/99 - 216s - loss: 1.6927e-04 - accuracy: 1.0000 - val_loss: 1.1333 - val_accuracy: 0.8452\n",
      "Epoch 7/10\n",
      "99/99 - 216s - loss: 1.4380e-04 - accuracy: 1.0000 - val_loss: 1.1538 - val_accuracy: 0.8452\n",
      "Epoch 8/10\n",
      "99/99 - 215s - loss: 1.1656e-04 - accuracy: 1.0000 - val_loss: 1.1720 - val_accuracy: 0.8452\n",
      "Epoch 9/10\n",
      "99/99 - 215s - loss: 1.0061e-04 - accuracy: 1.0000 - val_loss: 1.1885 - val_accuracy: 0.8452\n",
      "Epoch 10/10\n",
      "99/99 - 218s - loss: 8.3937e-05 - accuracy: 1.0000 - val_loss: 1.2041 - val_accuracy: 0.8426\n"
     ]
    }
   ],
   "source": [
    "batch_size = 16\n",
    "history5 = model2.fit(X_train, Y_train, epochs = 10, batch_size=batch_size, verbose = 2,validation_data=(X_test, Y_test))"
   ]
  },
  {
   "cell_type": "code",
   "execution_count": 32,
   "id": "funky-habitat",
   "metadata": {},
   "outputs": [
    {
     "name": "stdout",
     "output_type": "stream",
     "text": [
      "    Test Loss: 1.03428\n",
      "Test Accuracy: 83.25%\n"
     ]
    }
   ],
   "source": [
    "results2 = model2.evaluate(X_test, Y_test, verbose=0)\n",
    "\n",
    "print(\"    Test Loss: {:.5f}\".format(results2[0]))\n",
    "print(\"Test Accuracy: {:.2f}%\".format(results2[1] * 100))"
   ]
  },
  {
   "cell_type": "code",
   "execution_count": 57,
   "id": "further-donna",
   "metadata": {},
   "outputs": [
    {
     "data": {
      "image/png": "[encoded data removed]",
      "text/plain": [
       "<Figure size 432x288 with 1 Axes>"
      ]
     },
     "metadata": {
      "needs_background": "light"
     },
     "output_type": "display_data"
    }
   ],
   "source": [
    "plt.plot(history5.history['accuracy'])\n",
    "plt.plot(history5.history['val_accuracy'])\n",
    "plt.title('model accuracy')\n",
    "plt.ylabel('accuracy')\n",
    "plt.xlabel('epoch')\n",
    "plt.legend(['train', 'val'], loc='upper left')\n",
    "plt.show()"
   ]
  },
  {
   "cell_type": "code",
   "execution_count": 58,
   "id": "prompt-sampling",
   "metadata": {},
   "outputs": [
    {
     "data": {
      "image/png": "[encoded data removed]",
      "text/plain": [
       "<Figure size 432x288 with 1 Axes>"
      ]
     },
     "metadata": {
      "needs_background": "light"
     },
     "output_type": "display_data"
    }
   ],
   "source": [
    "plt.plot(history5.history['loss'])\n",
    "plt.plot(history5.history['val_loss'])\n",
    "plt.title('model loss')\n",
    "plt.ylabel('loss')\n",
    "plt.xlabel('epoch')\n",
    "plt.legend(['train', 'val'], loc='upper left')\n",
    "plt.show()"
   ]
  }
 ],
 "metadata": {
  "kernelspec": {
   "display_name": "Python 3",
   "language": "python",
   "name": "python3"
  },
  "language_info": {
   "codemirror_mode": {
    "name": "ipython",
    "version": 3
   },
   "file_extension": ".py",
   "mimetype": "text/x-python",
   "name": "python",
   "nbconvert_exporter": "python",
   "pygments_lexer": "ipython3",
   "version": "3.8.5"
  }
 },
 "nbformat": 4,
 "nbformat_minor": 5
}
