{
 "cells": [
  {
   "cell_type": "markdown",
   "id": "educated-windsor",
   "metadata": {},
   "source": [
    "# Detección de transacciones fraudulentas en sistema bancario"
   ]
  },
  {
   "cell_type": "code",
   "execution_count": 1,
   "id": "strange-jaguar",
   "metadata": {},
   "outputs": [],
   "source": [
    "import numpy as np\n",
    "import pandas as pd\n",
    "from pandas import DataFrame\n",
    "import matplotlib.pyplot as plt\n",
    "import seaborn as sns\n",
    "import warnings\n",
    "#importing packages for modeling\n",
    "from sklearn.linear_model import LogisticRegression\n",
    "from sklearn.svm import SVC\n",
    "from sklearn.ensemble import RandomForestClassifier\n",
    "#from xgboost import XGBClassifier\n",
    "from sklearn.neural_network import MLPClassifier\n",
    "import tensorflow as tf\n",
    "from tensorflow import keras\n",
    "from tensorflow.keras import layers\n",
    "from keras.layers import Dropout\n",
    "from keras.models import Sequential\n",
    "from keras.layers import Dense\n",
    "from keras.layers import BatchNormalization\n",
    "from sklearn import metrics\n",
    "from sklearn.metrics import confusion_matrix\n",
    "from sklearn.metrics import roc_curve\n",
    "from sklearn.metrics import roc_auc_score\n",
    "from sklearn.metrics import auc\n",
    "from sklearn.metrics import precision_recall_curve\n",
    "from sklearn.model_selection import train_test_split\n",
    "warnings.filterwarnings(\"ignore\")\n",
    "import os\n",
    "for dirname, _, filenames in os.walk('/kaggle/input'):\n",
    "    for filename in filenames:\n",
    "        print(os.path.join(dirname, filename))"
   ]
  },
  {
   "cell_type": "code",
   "execution_count": 2,
   "id": "floating-swaziland",
   "metadata": {},
   "outputs": [
    {
     "data": {
      "text/html": [
       "<div>\n",
       "<style scoped>\n",
       "    .dataframe tbody tr th:only-of-type {\n",
       "        vertical-align: middle;\n",
       "    }\n",
       "\n",
       "    .dataframe tbody tr th {\n",
       "        vertical-align: top;\n",
       "    }\n",
       "\n",
       "    .dataframe thead th {\n",
       "        text-align: right;\n",
       "    }\n",
       "</style>\n",
       "<table border=\"1\" class=\"dataframe\">\n",
       "  <thead>\n",
       "    <tr style=\"text-align: right;\">\n",
       "      <th></th>\n",
       "      <th>Time</th>\n",
       "      <th>V1</th>\n",
       "      <th>V2</th>\n",
       "      <th>V3</th>\n",
       "      <th>V4</th>\n",
       "      <th>V5</th>\n",
       "      <th>V6</th>\n",
       "      <th>V7</th>\n",
       "      <th>V8</th>\n",
       "      <th>V9</th>\n",
       "      <th>...</th>\n",
       "      <th>V21</th>\n",
       "      <th>V22</th>\n",
       "      <th>V23</th>\n",
       "      <th>V24</th>\n",
       "      <th>V25</th>\n",
       "      <th>V26</th>\n",
       "      <th>V27</th>\n",
       "      <th>V28</th>\n",
       "      <th>Amount</th>\n",
       "      <th>Class</th>\n",
       "    </tr>\n",
       "  </thead>\n",
       "  <tbody>\n",
       "    <tr>\n",
       "      <th>0</th>\n",
       "      <td>0.0</td>\n",
       "      <td>-1.359807</td>\n",
       "      <td>-0.072781</td>\n",
       "      <td>2.536347</td>\n",
       "      <td>1.378155</td>\n",
       "      <td>-0.338321</td>\n",
       "      <td>0.462388</td>\n",
       "      <td>0.239599</td>\n",
       "      <td>0.098698</td>\n",
       "      <td>0.363787</td>\n",
       "      <td>...</td>\n",
       "      <td>-0.018307</td>\n",
       "      <td>0.277838</td>\n",
       "      <td>-0.110474</td>\n",
       "      <td>0.066928</td>\n",
       "      <td>0.128539</td>\n",
       "      <td>-0.189115</td>\n",
       "      <td>0.133558</td>\n",
       "      <td>-0.021053</td>\n",
       "      <td>149.62</td>\n",
       "      <td>0</td>\n",
       "    </tr>\n",
       "    <tr>\n",
       "      <th>1</th>\n",
       "      <td>0.0</td>\n",
       "      <td>1.191857</td>\n",
       "      <td>0.266151</td>\n",
       "      <td>0.166480</td>\n",
       "      <td>0.448154</td>\n",
       "      <td>0.060018</td>\n",
       "      <td>-0.082361</td>\n",
       "      <td>-0.078803</td>\n",
       "      <td>0.085102</td>\n",
       "      <td>-0.255425</td>\n",
       "      <td>...</td>\n",
       "      <td>-0.225775</td>\n",
       "      <td>-0.638672</td>\n",
       "      <td>0.101288</td>\n",
       "      <td>-0.339846</td>\n",
       "      <td>0.167170</td>\n",
       "      <td>0.125895</td>\n",
       "      <td>-0.008983</td>\n",
       "      <td>0.014724</td>\n",
       "      <td>2.69</td>\n",
       "      <td>0</td>\n",
       "    </tr>\n",
       "    <tr>\n",
       "      <th>2</th>\n",
       "      <td>1.0</td>\n",
       "      <td>-1.358354</td>\n",
       "      <td>-1.340163</td>\n",
       "      <td>1.773209</td>\n",
       "      <td>0.379780</td>\n",
       "      <td>-0.503198</td>\n",
       "      <td>1.800499</td>\n",
       "      <td>0.791461</td>\n",
       "      <td>0.247676</td>\n",
       "      <td>-1.514654</td>\n",
       "      <td>...</td>\n",
       "      <td>0.247998</td>\n",
       "      <td>0.771679</td>\n",
       "      <td>0.909412</td>\n",
       "      <td>-0.689281</td>\n",
       "      <td>-0.327642</td>\n",
       "      <td>-0.139097</td>\n",
       "      <td>-0.055353</td>\n",
       "      <td>-0.059752</td>\n",
       "      <td>378.66</td>\n",
       "      <td>0</td>\n",
       "    </tr>\n",
       "    <tr>\n",
       "      <th>3</th>\n",
       "      <td>1.0</td>\n",
       "      <td>-0.966272</td>\n",
       "      <td>-0.185226</td>\n",
       "      <td>1.792993</td>\n",
       "      <td>-0.863291</td>\n",
       "      <td>-0.010309</td>\n",
       "      <td>1.247203</td>\n",
       "      <td>0.237609</td>\n",
       "      <td>0.377436</td>\n",
       "      <td>-1.387024</td>\n",
       "      <td>...</td>\n",
       "      <td>-0.108300</td>\n",
       "      <td>0.005274</td>\n",
       "      <td>-0.190321</td>\n",
       "      <td>-1.175575</td>\n",
       "      <td>0.647376</td>\n",
       "      <td>-0.221929</td>\n",
       "      <td>0.062723</td>\n",
       "      <td>0.061458</td>\n",
       "      <td>123.50</td>\n",
       "      <td>0</td>\n",
       "    </tr>\n",
       "    <tr>\n",
       "      <th>4</th>\n",
       "      <td>2.0</td>\n",
       "      <td>-1.158233</td>\n",
       "      <td>0.877737</td>\n",
       "      <td>1.548718</td>\n",
       "      <td>0.403034</td>\n",
       "      <td>-0.407193</td>\n",
       "      <td>0.095921</td>\n",
       "      <td>0.592941</td>\n",
       "      <td>-0.270533</td>\n",
       "      <td>0.817739</td>\n",
       "      <td>...</td>\n",
       "      <td>-0.009431</td>\n",
       "      <td>0.798278</td>\n",
       "      <td>-0.137458</td>\n",
       "      <td>0.141267</td>\n",
       "      <td>-0.206010</td>\n",
       "      <td>0.502292</td>\n",
       "      <td>0.219422</td>\n",
       "      <td>0.215153</td>\n",
       "      <td>69.99</td>\n",
       "      <td>0</td>\n",
       "    </tr>\n",
       "  </tbody>\n",
       "</table>\n",
       "<p>5 rows × 31 columns</p>\n",
       "</div>"
      ],
      "text/plain": [
       "   Time        V1        V2        V3        V4        V5        V6        V7  \\\n",
       "0   0.0 -1.359807 -0.072781  2.536347  1.378155 -0.338321  0.462388  0.239599   \n",
       "1   0.0  1.191857  0.266151  0.166480  0.448154  0.060018 -0.082361 -0.078803   \n",
       "2   1.0 -1.358354 -1.340163  1.773209  0.379780 -0.503198  1.800499  0.791461   \n",
       "3   1.0 -0.966272 -0.185226  1.792993 -0.863291 -0.010309  1.247203  0.237609   \n",
       "4   2.0 -1.158233  0.877737  1.548718  0.403034 -0.407193  0.095921  0.592941   \n",
       "\n",
       "         V8        V9  ...       V21       V22       V23       V24       V25  \\\n",
       "0  0.098698  0.363787  ... -0.018307  0.277838 -0.110474  0.066928  0.128539   \n",
       "1  0.085102 -0.255425  ... -0.225775 -0.638672  0.101288 -0.339846  0.167170   \n",
       "2  0.247676 -1.514654  ...  0.247998  0.771679  0.909412 -0.689281 -0.327642   \n",
       "3  0.377436 -1.387024  ... -0.108300  0.005274 -0.190321 -1.175575  0.647376   \n",
       "4 -0.270533  0.817739  ... -0.009431  0.798278 -0.137458  0.141267 -0.206010   \n",
       "\n",
       "        V26       V27       V28  Amount  Class  \n",
       "0 -0.189115  0.133558 -0.021053  149.62      0  \n",
       "1  0.125895 -0.008983  0.014724    2.69      0  \n",
       "2 -0.139097 -0.055353 -0.059752  378.66      0  \n",
       "3 -0.221929  0.062723  0.061458  123.50      0  \n",
       "4  0.502292  0.219422  0.215153   69.99      0  \n",
       "\n",
       "[5 rows x 31 columns]"
      ]
     },
     "execution_count": 2,
     "metadata": {},
     "output_type": "execute_result"
    }
   ],
   "source": [
    "#Importando nuestra data\n",
    "df = pd.read_csv(\"./creditcard.csv\")\n",
    "df.head(5)"
   ]
  },
  {
   "cell_type": "code",
   "execution_count": 3,
   "id": "cosmetic-street",
   "metadata": {},
   "outputs": [],
   "source": [
    "#Para la detección de fraude no veo relevante el uso de la variable tiempo, por lo que la eliminamos\n",
    "df = df.drop(\"Time\", axis=1)\n",
    "#vamos a utilizar preprocessing de sklearn, que nos puede ayudar a mejorar la calidad de la data\n",
    "from sklearn import preprocessing\n",
    "import imblearn\n",
    "from imblearn.under_sampling import RandomUnderSampler \n",
    "scaler = preprocessing.StandardScaler()\n",
    "undersample = RandomUnderSampler(sampling_strategy=0.5)\n",
    "\n"
   ]
  },
  {
   "cell_type": "code",
   "execution_count": 4,
   "id": "decent-typing",
   "metadata": {},
   "outputs": [],
   "source": [
    "#standard scaling al monto, debido a que estos pueden ser desde 0.01 centavo hasta montos mayores a 1,000 y de distintas monedas\n",
    "df['std_Amount'] = scaler.fit_transform(df['Amount'].values.reshape (-1,1))\n",
    "#Quitamos variable Monto, ya que tenemos sst_amount\n",
    "df = df.drop(\"Amount\", axis=1)"
   ]
  },
  {
   "cell_type": "code",
   "execution_count": 5,
   "id": "present-pillow",
   "metadata": {},
   "outputs": [],
   "source": [
    "#vamos a dividir el dataset, la class es nuestra variable objetivo\n",
    "cols = df.columns.tolist()\n",
    "cols = [c for c in cols if c not in [\"Class\"]]\n",
    "target = \"Class\""
   ]
  },
  {
   "cell_type": "code",
   "execution_count": 6,
   "id": "corporate-fight",
   "metadata": {},
   "outputs": [],
   "source": [
    "#Definiendo x y y, X son todas las columnas y Y es nuestro target\n",
    "X = df[cols]\n",
    "Y = df[target]\n",
    "#undersample, debido al imbalance de la data, ya que el fraude vs transacciones normales es muy grande la diferencia.\n",
    "X_under, Y_under = undersample.fit_resample(X, Y)"
   ]
  },
  {
   "cell_type": "code",
   "execution_count": 7,
   "id": "liked-friendship",
   "metadata": {},
   "outputs": [],
   "source": [
    "test = pd.DataFrame(Y_under, columns = ['Class'])"
   ]
  },
  {
   "cell_type": "code",
   "execution_count": 8,
   "id": "wired-kelly",
   "metadata": {},
   "outputs": [],
   "source": [
    "#Vamos a dividir nuestra data en train y test\n",
    "X_train, X_test, y_train, y_test = train_test_split(X_under, Y_under, test_size=0.2, random_state=1)"
   ]
  },
  {
   "cell_type": "markdown",
   "id": "fiscal-louis",
   "metadata": {},
   "source": [
    "# Set de pruebas 1:\n",
    "\n",
    "### Se utilizó sklearn solo para comparar como se comporta el análisis respecto a Keras"
   ]
  },
  {
   "cell_type": "markdown",
   "id": "chicken-anger",
   "metadata": {},
   "source": [
    "## Prueba MLP Classifier con LBFGS"
   ]
  },
  {
   "cell_type": "code",
   "execution_count": 29,
   "id": "ordinary-north",
   "metadata": {},
   "outputs": [],
   "source": [
    "model5 = MLPClassifier(solver='lbfgs', hidden_layer_sizes=(100,100), random_state=2)\n",
    "mlp = model5.fit(X_train, y_train)"
   ]
  },
  {
   "cell_type": "code",
   "execution_count": 30,
   "id": "sexual-retro",
   "metadata": {},
   "outputs": [
    {
     "data": {
      "text/plain": [
       "{'activation': 'relu',\n",
       " 'alpha': 0.0001,\n",
       " 'batch_size': 'auto',\n",
       " 'beta_1': 0.9,\n",
       " 'beta_2': 0.999,\n",
       " 'early_stopping': False,\n",
       " 'epsilon': 1e-08,\n",
       " 'hidden_layer_sizes': (100, 100),\n",
       " 'learning_rate': 'constant',\n",
       " 'learning_rate_init': 0.001,\n",
       " 'max_fun': 15000,\n",
       " 'max_iter': 200,\n",
       " 'momentum': 0.9,\n",
       " 'n_iter_no_change': 10,\n",
       " 'nesterovs_momentum': True,\n",
       " 'power_t': 0.5,\n",
       " 'random_state': 2,\n",
       " 'shuffle': True,\n",
       " 'solver': 'lbfgs',\n",
       " 'tol': 0.0001,\n",
       " 'validation_fraction': 0.1,\n",
       " 'verbose': False,\n",
       " 'warm_start': False}"
      ]
     },
     "execution_count": 30,
     "metadata": {},
     "output_type": "execute_result"
    }
   ],
   "source": [
    "model5.get_params(deep=True)"
   ]
  },
  {
   "cell_type": "code",
   "execution_count": 31,
   "id": "worldwide-underground",
   "metadata": {},
   "outputs": [],
   "source": [
    "#Predicciones del modelo\n",
    "y_pred_mlp = model5.predict(X_test)"
   ]
  },
  {
   "cell_type": "markdown",
   "id": "still-machine",
   "metadata": {},
   "source": [
    "### Resultados:"
   ]
  },
  {
   "cell_type": "code",
   "execution_count": 32,
   "id": "domestic-anthropology",
   "metadata": {},
   "outputs": [
    {
     "name": "stdout",
     "output_type": "stream",
     "text": [
      "Accuracy MLP: 0.9527027027027027\n",
      "Precision MLP: 0.9272727272727272\n",
      "Recall MLP: 0.9444444444444444\n",
      "F1 Score MLP: 0.9357798165137615\n"
     ]
    }
   ],
   "source": [
    "#scores\n",
    "print(\"Accuracy MLP:\",metrics.accuracy_score(y_test, y_pred_mlp))\n",
    "print(\"Precision MLP:\",metrics.precision_score(y_test, y_pred_mlp))\n",
    "print(\"Recall MLP:\",metrics.recall_score(y_test, y_pred_mlp))\n",
    "print(\"F1 Score MLP:\",metrics.f1_score(y_test, y_pred_mlp))"
   ]
  },
  {
   "cell_type": "code",
   "execution_count": 33,
   "id": "alien-meter",
   "metadata": {},
   "outputs": [
    {
     "name": "stdout",
     "output_type": "stream",
     "text": [
      "AUC MLP : 0.9775167454688731\n"
     ]
    }
   ],
   "source": [
    "#Estimado de probabilidad\n",
    "y_pred_mlp_proba = model5.predict_proba(X_test)[::,1]\n",
    "fpr_mlp, tpr_mlp, _ = metrics.roc_curve(y_test,  y_pred_mlp_proba)\n",
    "auc_mlp = metrics.roc_auc_score(y_test, y_pred_mlp_proba)\n",
    "print(\"AUC MLP :\", auc_mlp)"
   ]
  },
  {
   "cell_type": "code",
   "execution_count": 34,
   "id": "later-tomato",
   "metadata": {},
   "outputs": [
    {
     "data": {
      "image/png": "[encoded data removed]",
      "text/plain": [
       "<Figure size 432x288 with 1 Axes>"
      ]
     },
     "metadata": {
      "needs_background": "light"
     },
     "output_type": "display_data"
    }
   ],
   "source": [
    "#ROC\n",
    "plt.plot(fpr_mlp,tpr_mlp,label=\"MLPC, auc={:.3f})\".format(auc_mlp))\n",
    "plt.plot([0, 1], [0, 1], 'k--')\n",
    "plt.xlabel('False positive rate')\n",
    "plt.ylabel('True positive rate')\n",
    "plt.title('Multilayer Perceptron ROC curve')\n",
    "plt.legend(loc=4)\n",
    "plt.show()\n",
    "\n"
   ]
  },
  {
   "cell_type": "code",
   "execution_count": 35,
   "id": "composed-lafayette",
   "metadata": {},
   "outputs": [
    {
     "data": {
      "image/png": "[encoded data removed]",
      "text/plain": [
       "<Figure size 432x288 with 1 Axes>"
      ]
     },
     "metadata": {
      "needs_background": "light"
     },
     "output_type": "display_data"
    }
   ],
   "source": [
    "mlp_precision, mlp_recall, _ = precision_recall_curve(y_test, y_pred_mlp_proba)\n",
    "no_skill = len(y_test[y_test==1]) / len(y_test)\n",
    "plt.plot([0, 1], [no_skill, no_skill], linestyle='--', color='black', label='No Skill')\n",
    "plt.plot(mlp_recall, mlp_precision, color='orange', label='MLP')\n",
    "plt.xlabel('Recall')\n",
    "plt.ylabel('Precision')\n",
    "plt.title('Precision-Recall curve')\n",
    "plt.legend()\n",
    "plt.show()"
   ]
  },
  {
   "cell_type": "markdown",
   "id": "aggressive-marble",
   "metadata": {},
   "source": [
    "## Prueba MLP Classifier con SDG"
   ]
  },
  {
   "cell_type": "code",
   "execution_count": 61,
   "id": "referenced-general",
   "metadata": {},
   "outputs": [
    {
     "name": "stdout",
     "output_type": "stream",
     "text": [
      "Accuracy MLP: 0.9391891891891891\n",
      "Precision MLP: 0.9411764705882353\n",
      "Recall MLP: 0.8888888888888888\n",
      "F1 Score MLP: 0.9142857142857143\n"
     ]
    }
   ],
   "source": [
    "model6 = MLPClassifier(solver='sgd', hidden_layer_sizes=(100,100), random_state=2)\n",
    "mlp = model6.fit(X_train, y_train)\n",
    "model6.get_params(deep=True)\n",
    "#Predicciones del modelo\n",
    "y_pred_mlp6 = model6.predict(X_test)\n",
    "#scores\n",
    "print(\"Accuracy MLP:\",metrics.accuracy_score(y_test, y_pred_mlp6))\n",
    "print(\"Precision MLP:\",metrics.precision_score(y_test, y_pred_mlp6))\n",
    "print(\"Recall MLP:\",metrics.recall_score(y_test, y_pred_mlp6))\n",
    "print(\"F1 Score MLP:\",metrics.f1_score(y_test, y_pred_mlp6))"
   ]
  },
  {
   "cell_type": "code",
   "execution_count": 62,
   "id": "verified-bermuda",
   "metadata": {},
   "outputs": [
    {
     "data": {
      "image/png": "[encoded data removed]",
      "text/plain": [
       "<Figure size 432x288 with 1 Axes>"
      ]
     },
     "metadata": {
      "needs_background": "light"
     },
     "output_type": "display_data"
    }
   ],
   "source": [
    "#ROC\n",
    "plt.plot(fpr_mlp,tpr_mlp,label=\"MLPC, auc={:.3f})\".format(auc_mlp))\n",
    "plt.plot([0, 1], [0, 1], 'k--')\n",
    "plt.xlabel('False positive rate')\n",
    "plt.ylabel('True positive rate')\n",
    "plt.title('Multilayer Perceptron ROC curve')\n",
    "plt.legend(loc=4)\n",
    "plt.show()"
   ]
  },
  {
   "cell_type": "code",
   "execution_count": 63,
   "id": "destroyed-expansion",
   "metadata": {},
   "outputs": [
    {
     "data": {
      "image/png": "[encoded data removed]",
      "text/plain": [
       "<Figure size 432x288 with 1 Axes>"
      ]
     },
     "metadata": {
      "needs_background": "light"
     },
     "output_type": "display_data"
    }
   ],
   "source": [
    "mlp_precision, mlp_recall, _ = precision_recall_curve(y_test, y_pred_mlp_proba)\n",
    "no_skill = len(y_test[y_test==1]) / len(y_test)\n",
    "plt.plot([0, 1], [no_skill, no_skill], linestyle='--', color='black', label='No Skill')\n",
    "plt.plot(mlp_recall, mlp_precision, color='orange', label='MLP')\n",
    "plt.xlabel('Recall')\n",
    "plt.ylabel('Precision')\n",
    "plt.title('Precision-Recall curve')\n",
    "plt.legend()\n",
    "plt.show()"
   ]
  },
  {
   "cell_type": "markdown",
   "id": "respective-berlin",
   "metadata": {},
   "source": [
    "## Prueba MLP Classifier con ADAM"
   ]
  },
  {
   "cell_type": "code",
   "execution_count": 66,
   "id": "rotary-sight",
   "metadata": {},
   "outputs": [
    {
     "name": "stdout",
     "output_type": "stream",
     "text": [
      "Accuracy MLP: 0.9425675675675675\n",
      "Precision MLP: 0.9252336448598131\n",
      "Recall MLP: 0.9166666666666666\n",
      "F1 Score MLP: 0.9209302325581395\n"
     ]
    }
   ],
   "source": [
    "model7 = MLPClassifier(solver='adam', hidden_layer_sizes=(100,100), random_state=2)\n",
    "mlp = model7.fit(X_train, y_train)\n",
    "model7.get_params(deep=True)\n",
    "#Predicciones del modelo\n",
    "y_pred_mlp7 = model7.predict(X_test)\n",
    "#scores\n",
    "print(\"Accuracy MLP:\",metrics.accuracy_score(y_test, y_pred_mlp7))\n",
    "print(\"Precision MLP:\",metrics.precision_score(y_test, y_pred_mlp7))\n",
    "print(\"Recall MLP:\",metrics.recall_score(y_test, y_pred_mlp7))\n",
    "print(\"F1 Score MLP:\",metrics.f1_score(y_test, y_pred_mlp7))"
   ]
  },
  {
   "cell_type": "code",
   "execution_count": 67,
   "id": "apparent-bedroom",
   "metadata": {},
   "outputs": [
    {
     "data": {
      "image/png": "[encoded data removed]",
      "text/plain": [
       "<Figure size 432x288 with 1 Axes>"
      ]
     },
     "metadata": {
      "needs_background": "light"
     },
     "output_type": "display_data"
    }
   ],
   "source": [
    "#ROC\n",
    "plt.plot(fpr_mlp,tpr_mlp,label=\"MLPC, auc={:.3f})\".format(auc_mlp))\n",
    "plt.plot([0, 1], [0, 1], 'k--')\n",
    "plt.xlabel('False positive rate')\n",
    "plt.ylabel('True positive rate')\n",
    "plt.title('Multilayer Perceptron ROC curve')\n",
    "plt.legend(loc=4)\n",
    "plt.show()"
   ]
  },
  {
   "cell_type": "code",
   "execution_count": 68,
   "id": "colored-heading",
   "metadata": {},
   "outputs": [
    {
     "data": {
      "image/png": "[encoded data removed]",
      "text/plain": [
       "<Figure size 432x288 with 1 Axes>"
      ]
     },
     "metadata": {
      "needs_background": "light"
     },
     "output_type": "display_data"
    }
   ],
   "source": [
    "mlp_precision, mlp_recall, _ = precision_recall_curve(y_test, y_pred_mlp_proba)\n",
    "no_skill = len(y_test[y_test==1]) / len(y_test)\n",
    "plt.plot([0, 1], [no_skill, no_skill], linestyle='--', color='black', label='No Skill')\n",
    "plt.plot(mlp_recall, mlp_precision, color='orange', label='MLP')\n",
    "plt.xlabel('Recall')\n",
    "plt.ylabel('Precision')\n",
    "plt.title('Precision-Recall curve')\n",
    "plt.legend()\n",
    "plt.show()"
   ]
  },
  {
   "cell_type": "markdown",
   "id": "indoor-insurance",
   "metadata": {},
   "source": [
    "# Opcion 2 MLP con Tensorflow y Keras"
   ]
  },
  {
   "cell_type": "code",
   "execution_count": 9,
   "id": "adult-landing",
   "metadata": {},
   "outputs": [],
   "source": [
    "#train the model\n",
    "model = Sequential()\n",
    "model.add(Dense(64, input_shape=(29,), activation='relu')),\n",
    "model.add(Dropout(0.2)),\n",
    "model.add(Dense(32, activation='relu')),\n",
    "model.add(Dropout(0.2)),\n",
    "model.add(Dense(16, activation='relu')),\n",
    "model.add(Dropout(0.2)),\n",
    "model.add(Dense(8, activation='relu')),\n",
    "model.add(Dropout(0.2)),\n",
    "model.add(Dense(4, activation='relu')),\n",
    "model.add(Dropout(0.2)),\n",
    "model.add(Dense(1, activation='sigmoid'))"
   ]
  },
  {
   "cell_type": "code",
   "execution_count": 28,
   "id": "metallic-utility",
   "metadata": {},
   "outputs": [],
   "source": [
    "opt = tf.keras.optimizers.Adam(learning_rate=0.001) #optimizer\n",
    "\n",
    "model.compile(optimizer=opt, loss=tf.keras.losses.BinaryCrossentropy(), metrics=['accuracy',tf.keras.metrics.SensitivityAtSpecificity(0.5)]) #metrics"
   ]
  },
  {
   "cell_type": "code",
   "execution_count": 29,
   "id": "capital-second",
   "metadata": {},
   "outputs": [],
   "source": [
    "earlystopper = tf.keras.callbacks.EarlyStopping(monitor='val_accuracy', min_delta=0, patience=15, verbose=1,mode='auto', baseline=None, restore_best_weights=False)\n",
    "history = model.fit(X_train.values, y_train.values, epochs = 6, batch_size=5, validation_split = 0.15, verbose = 0,\n",
    "                    callbacks = [earlystopper])\n",
    "history_ker = history.history\n"
   ]
  },
  {
   "cell_type": "code",
   "execution_count": 30,
   "id": "peaceful-milan",
   "metadata": {},
   "outputs": [
    {
     "data": {
      "text/plain": [
       "Text(0.5, 0, 'Epochs')"
      ]
     },
     "execution_count": 30,
     "metadata": {},
     "output_type": "execute_result"
    },
    {
     "data": {
      "image/png": "[encoded data removed]",
      "text/plain": [
       "<Figure size 432x288 with 1 Axes>"
      ]
     },
     "metadata": {
      "needs_background": "light"
     },
     "output_type": "display_data"
    }
   ],
   "source": [
    "loss_values = history_ker['loss']\n",
    "val_loss_values=history_ker['val_loss']\n",
    "plt.title('Keras - Model Loss')\n",
    "plt.plot(loss_values,'b',label='training loss')\n",
    "plt.plot(val_loss_values,'r',label='val training loss')\n",
    "plt.legend()\n",
    "plt.xlabel(\"Epochs\")"
   ]
  },
  {
   "cell_type": "code",
   "execution_count": 31,
   "id": "potential-hospital",
   "metadata": {},
   "outputs": [
    {
     "data": {
      "text/plain": [
       "Text(0.5, 0, 'Epochs')"
      ]
     },
     "execution_count": 31,
     "metadata": {},
     "output_type": "execute_result"
    },
    {
     "data": {
      "image/png": "[encoded data removed]",
      "text/plain": [
       "<Figure size 432x288 with 1 Axes>"
      ]
     },
     "metadata": {
      "needs_background": "light"
     },
     "output_type": "display_data"
    }
   ],
   "source": [
    "\n",
    "\n",
    "accuracy_values = history_ker['accuracy']\n",
    "val_accuracy_values=history_ker['val_accuracy']\n",
    "plt.title('Keras - Model Accuracy')\n",
    "plt.plot(val_accuracy_values,'-r',label='val_accuracy')\n",
    "plt.plot(accuracy_values,'-b',label='accuracy')\n",
    "plt.legend()\n",
    "plt.xlabel(\"Epochs\")\n",
    "\n"
   ]
  },
  {
   "cell_type": "code",
   "execution_count": 33,
   "id": "separate-treatment",
   "metadata": {},
   "outputs": [
    {
     "data": {
      "text/plain": [
       "{'loss': [0.25483250617980957,\n",
       "  0.2042810022830963,\n",
       "  0.19296908378601074,\n",
       "  0.16886086761951447,\n",
       "  0.18309004604816437,\n",
       "  0.16739016771316528],\n",
       " 'accuracy': [0.938185453414917,\n",
       "  0.9421734809875488,\n",
       "  0.9491525292396545,\n",
       "  0.9611166715621948,\n",
       "  0.9591226577758789,\n",
       "  0.9541375637054443],\n",
       " 'sensitivity_at_specificity': [0.981249988079071,\n",
       "  0.996874988079071,\n",
       "  0.9937499761581421,\n",
       "  1.0,\n",
       "  0.996874988079071,\n",
       "  0.996874988079071],\n",
       " 'val_loss': [0.3075242042541504,\n",
       "  0.3078111708164215,\n",
       "  0.30435600876808167,\n",
       "  0.3639579713344574,\n",
       "  0.33735203742980957,\n",
       "  0.37276726961135864],\n",
       " 'val_accuracy': [0.9604519605636597,\n",
       "  0.9661017060279846,\n",
       "  0.9604519605636597,\n",
       "  0.9661017060279846,\n",
       "  0.9661017060279846,\n",
       "  0.9604519605636597],\n",
       " 'val_sensitivity_at_specificity': [0.96875,\n",
       "  0.96875,\n",
       "  0.96875,\n",
       "  0.953125,\n",
       "  0.953125,\n",
       "  0.9375]}"
      ]
     },
     "execution_count": 33,
     "metadata": {},
     "output_type": "execute_result"
    }
   ],
   "source": [
    "history_ker"
   ]
  },
  {
   "cell_type": "code",
   "execution_count": 18,
   "id": "naughty-damage",
   "metadata": {},
   "outputs": [
    {
     "name": "stdout",
     "output_type": "stream",
     "text": [
      "WARNING:tensorflow:From <ipython-input-18-94f59034a98d>:1: Sequential.predict_classes (from tensorflow.python.keras.engine.sequential) is deprecated and will be removed after 2021-01-01.\n",
      "Instructions for updating:\n",
      "Please use instead:* `np.argmax(model.predict(x), axis=-1)`,   if your model does multi-class classification   (e.g. if it uses a `softmax` last-layer activation).* `(model.predict(x) > 0.5).astype(\"int32\")`,   if your model does binary classification   (e.g. if it uses a `sigmoid` last-layer activation).\n"
     ]
    }
   ],
   "source": [
    "y_pred_nn = model.predict_classes(X_test)"
   ]
  },
  {
   "cell_type": "code",
   "execution_count": 19,
   "id": "wanted-wages",
   "metadata": {},
   "outputs": [
    {
     "name": "stdout",
     "output_type": "stream",
     "text": [
      "WARNING:tensorflow:From <ipython-input-19-2f8a901c7eec>:2: Sequential.predict_proba (from tensorflow.python.keras.engine.sequential) is deprecated and will be removed after 2021-01-01.\n",
      "Instructions for updating:\n",
      "Please use `model.predict()` instead.\n",
      "AUC Neural Net:  0.9773689913317571\n"
     ]
    }
   ],
   "source": [
    "#AUC\n",
    "y_pred_nn_proba = model.predict_proba(X_test)\n",
    "fpr_keras, tpr_keras, thresholds_keras = roc_curve(y_test,y_pred_nn_proba)\n",
    "auc_keras = auc(fpr_keras, tpr_keras)\n",
    "print('AUC Neural Net: ', auc_keras)\n",
    "\n"
   ]
  },
  {
   "cell_type": "code",
   "execution_count": 20,
   "id": "abroad-project",
   "metadata": {},
   "outputs": [
    {
     "data": {
      "image/png": "[encoded data removed]",
      "text/plain": [
       "<Figure size 432x288 with 1 Axes>"
      ]
     },
     "metadata": {
      "needs_background": "light"
     },
     "output_type": "display_data"
    }
   ],
   "source": [
    "#ROC\n",
    "plt.figure(1)\n",
    "plt.plot([0, 1], [0, 1], 'k--')\n",
    "plt.plot(fpr_keras, tpr_keras, label='Keras (area = {:.3f})'.format(auc_keras))\n",
    "plt.xlabel('False positive rate')\n",
    "plt.ylabel('True positive rate')\n",
    "plt.title('Neural Net ROC curve')\n",
    "plt.legend(loc='best')\n",
    "plt.show()"
   ]
  },
  {
   "cell_type": "code",
   "execution_count": 21,
   "id": "white-bibliography",
   "metadata": {},
   "outputs": [
    {
     "data": {
      "image/png": "[encoded data removed]",
      "text/plain": [
       "<Figure size 432x288 with 1 Axes>"
      ]
     },
     "metadata": {
      "needs_background": "light"
     },
     "output_type": "display_data"
    }
   ],
   "source": [
    "nn_precision, nn_recall, _ = precision_recall_curve(y_test, y_pred_nn_proba)\n",
    "no_skill = len(y_test[y_test==1]) / len(y_test)\n",
    "plt.plot([0, 1], [no_skill, no_skill], linestyle='--', color='black', label='No Skill')\n",
    "plt.plot(nn_recall, nn_precision, color='orange', label='TF NN')\n",
    "plt.xlabel('Recall')\n",
    "plt.ylabel('Precision')\n",
    "plt.title('Precision-Recall curve')\n",
    "plt.legend()\n",
    "plt.show()"
   ]
  }
 ],
 "metadata": {
  "kernelspec": {
   "display_name": "Python 3",
   "language": "python",
   "name": "python3"
  },
  "language_info": {
   "codemirror_mode": {
    "name": "ipython",
    "version": 3
   },
   "file_extension": ".py",
   "mimetype": "text/x-python",
   "name": "python",
   "nbconvert_exporter": "python",
   "pygments_lexer": "ipython3",
   "version": "3.8.5"
  }
 },
 "nbformat": 4,
 "nbformat_minor": 5
}
