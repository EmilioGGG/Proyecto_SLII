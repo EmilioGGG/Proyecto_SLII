{
 "cells": [
  {
   "cell_type": "code",
   "execution_count": 1,
   "id": "detected-tiger",
   "metadata": {},
   "outputs": [],
   "source": [
    "#Librerías a Utilizar\n",
    "import pandas as pd\n",
    "import numpy as np\n",
    "import os\n",
    "import torch\n",
    "import torchvision\n",
    "import tarfile\n",
    "import torch.nn as nn\n",
    "import numpy as np\n",
    "import torch.nn.functional as F\n",
    "from torchvision.datasets import ImageFolder\n",
    "from torchvision import transforms\n",
    "from torchvision.transforms import ToTensor\n",
    "from torchvision.datasets.utils import download_url\n",
    "from torchvision.datasets import ImageFolder\n",
    "from torch.utils.data import DataLoader\n",
    "import torchvision.transforms as tt\n",
    "from torch.utils.data import random_split\n",
    "from torchvision.utils import make_grid\n",
    "import matplotlib.pyplot as plt\n",
    "import matplotlib.pyplot as plt\n",
    "from torch.utils.data.dataloader import DataLoader\n",
    "%matplotlib inline"
   ]
  },
  {
   "cell_type": "code",
   "execution_count": 2,
   "id": "formed-demographic",
   "metadata": {},
   "outputs": [
    {
     "name": "stdout",
     "output_type": "stream",
     "text": [
      "Clases de Dataset ['0', '1', '2', '3', '4', '5', '6', '7', '8', '9']\n"
     ]
    }
   ],
   "source": [
    "#Importando Clases  \n",
    "data_dir = './Sign-Language-Digits-Dataset'\n",
    "classes = os.listdir(data_dir + \"/Dataset\")\n",
    "print(\"Clases de Dataset\", classes)    "
   ]
  },
  {
   "cell_type": "code",
   "execution_count": 3,
   "id": "sorted-cartridge",
   "metadata": {},
   "outputs": [],
   "source": [
    "# Importando Dataset\n",
    "dataset = ImageFolder(data_dir+'/Dataset', transform=torchvision.transforms.Compose(\n",
    "        [torchvision.transforms.Resize(64), torchvision.transforms.ToTensor()]))"
   ]
  },
  {
   "cell_type": "code",
   "execution_count": 4,
   "id": "dress-bride",
   "metadata": {},
   "outputs": [],
   "source": [
    "#Ejemplo de imagenes:\n",
    "def ejemplo(img, label):\n",
    "    print('Label: ', dataset.classes[label], \"(\"+str(label)+\")\")\n",
    "    plt.imshow(img.permute(1, 2, 0))"
   ]
  },
  {
   "cell_type": "code",
   "execution_count": 5,
   "id": "intelligent-glasgow",
   "metadata": {},
   "outputs": [
    {
     "name": "stdout",
     "output_type": "stream",
     "text": [
      "Label:  0 (0)\n"
     ]
    },
    {
     "data": {
      "image/png": "[encoded data removed]",
      "text/plain": [
       "<Figure size 432x288 with 1 Axes>"
      ]
     },
     "metadata": {
      "needs_background": "light"
     },
     "output_type": "display_data"
    }
   ],
   "source": [
    "ejemplo(*dataset[0])"
   ]
  },
  {
   "cell_type": "code",
   "execution_count": 6,
   "id": "steady-value",
   "metadata": {},
   "outputs": [
    {
     "name": "stdout",
     "output_type": "stream",
     "text": [
      "Label:  0 (0)\n"
     ]
    },
    {
     "data": {
      "image/png": "[encoded data removed]",
      "text/plain": [
       "<Figure size 432x288 with 1 Axes>"
      ]
     },
     "metadata": {
      "needs_background": "light"
     },
     "output_type": "display_data"
    }
   ],
   "source": [
    "ejemplo(*dataset[2])"
   ]
  },
  {
   "cell_type": "code",
   "execution_count": 7,
   "id": "imported-optimization",
   "metadata": {},
   "outputs": [
    {
     "data": {
      "text/plain": [
       "(1856, 206)"
      ]
     },
     "execution_count": 7,
     "metadata": {},
     "output_type": "execute_result"
    }
   ],
   "source": [
    "val_size = int(0.1*len(dataset))\n",
    "train_size = len(dataset) - val_size\n",
    "train_ds, val_ds = random_split(dataset, [train_size, val_size])\n",
    "len(train_ds), len(val_ds)"
   ]
  },
  {
   "cell_type": "code",
   "execution_count": 8,
   "id": "extended-council",
   "metadata": {},
   "outputs": [
    {
     "name": "stdout",
     "output_type": "stream",
     "text": [
      "Tamaño Dataset Entrenamiento 1856\n"
     ]
    },
    {
     "data": {
      "text/plain": [
       "(1806, 50)"
      ]
     },
     "execution_count": 8,
     "metadata": {},
     "output_type": "execute_result"
    }
   ],
   "source": [
    "print(\"Tamaño Dataset Entrenamiento\", train_size)\n",
    "test_size=50\n",
    "train_size = len(train_ds) - test_size\n",
    "\n",
    "train_ds, test_ds = random_split(train_ds, [train_size, test_size])\n",
    "len(train_ds), len(test_ds)"
   ]
  },
  {
   "cell_type": "markdown",
   "id": "arbitrary-forwarding",
   "metadata": {},
   "source": [
    "# Prueba 1, con Pytorch"
   ]
  },
  {
   "cell_type": "code",
   "execution_count": 9,
   "id": "mexican-vacation",
   "metadata": {},
   "outputs": [],
   "source": [
    "#Definiendo tamaño del batch\n",
    "batch_size=128\n",
    "\n",
    "train_dl = DataLoader(train_ds, batch_size, shuffle=True, num_workers=8, pin_memory=True)\n",
    "val_dl = DataLoader(val_ds, batch_size*2, num_workers=4, pin_memory=True)"
   ]
  },
  {
   "cell_type": "code",
   "execution_count": 10,
   "id": "union-jaguar",
   "metadata": {},
   "outputs": [],
   "source": [
    "def accuracy(outputs, labels):\n",
    "    _, preds = torch.max(outputs, dim=1)\n",
    "    return torch.tensor(torch.sum(preds == labels).item() / len(preds))\n",
    "#Creando la clase de ImageClassification, para validar paso a paso  y generar predicciones\n",
    "#Training y Validation\n",
    "class ImageClassificationBase(nn.Module):\n",
    "    def training_step(self, batch):\n",
    "        images, labels = batch \n",
    "        out = self(images)                  # Predicciones Training\n",
    "        loss = F.cross_entropy(out, labels) # Calculate loss\n",
    "        return loss\n",
    "    \n",
    "    def validation_step(self, batch):\n",
    "        images, labels = batch \n",
    "        out = self(images)                    # Predicciones Validacion\n",
    "        loss = F.cross_entropy(out, labels)   # Calculate loss\n",
    "        acc = accuracy(out, labels)           # Calculate accuracy\n",
    "        return {'val_loss': loss.detach(), 'val_acc': acc}\n",
    "        \n",
    "    def validation_epoch_end(self, outputs):\n",
    "        batch_losses = [x['val_loss'] for x in outputs]\n",
    "        epoch_loss = torch.stack(batch_losses).mean()   # Combine losses\n",
    "        batch_accs = [x['val_acc'] for x in outputs]\n",
    "        epoch_acc = torch.stack(batch_accs).mean()      # Combine accuracies\n",
    "        return {'val_loss': epoch_loss.item(), 'val_acc': epoch_acc.item()}\n",
    "    \n",
    "    def epoch_end(self, epoch, result):\n",
    "        print(\"Epoch [{}], train_loss: {:.4f}, val_loss: {:.4f}, val_acc: {:.4f}\".format(\n",
    "            epoch, result['train_loss'], result['val_loss'], result['val_acc']))"
   ]
  },
  {
   "cell_type": "code",
   "execution_count": 11,
   "id": "tropical-shark",
   "metadata": {},
   "outputs": [],
   "source": [
    "class SignLangCnnModel(ImageClassificationBase):\n",
    "    def __init__(self):\n",
    "        super().__init__()\n",
    "        self.network = nn.Sequential(\n",
    "            nn.Conv2d(3, 32, kernel_size=3, padding=1),\n",
    "            nn.ReLU(),\n",
    "            nn.Conv2d(32, 64, kernel_size=3, stride=1, padding=1),\n",
    "            nn.ReLU(),\n",
    "            nn.MaxPool2d(2, 2), # output: 64 x 32X32\n",
    "\n",
    "            nn.Conv2d(64, 128, kernel_size=3, stride=1, padding=1),\n",
    "            nn.ReLU(),\n",
    "            nn.Conv2d(128, 128, kernel_size=3, stride=1, padding=1),\n",
    "            nn.ReLU(),\n",
    "            nn.MaxPool2d(2, 2), # output: 128 x 16 x 16\n",
    "\n",
    "            nn.Conv2d(128, 256, kernel_size=3, stride=1, padding=1),\n",
    "            nn.ReLU(),\n",
    "            nn.Conv2d(256, 256, kernel_size=3, stride=1, padding=1),\n",
    "            nn.ReLU(),\n",
    "            nn.MaxPool2d(2, 2), # output: 256 x 8 x 8\n",
    "\n",
    "            nn.Flatten(), \n",
    "            nn.Linear(16384, 8192),\n",
    "            nn.ReLU(),\n",
    "            nn.Linear(8192, 1024),\n",
    "            nn.ReLU(),\n",
    "            nn.Linear(1024, 10))\n",
    "        \n",
    "    def forward(self, xb):\n",
    "        return self.network(xb)"
   ]
  },
  {
   "cell_type": "code",
   "execution_count": 12,
   "id": "wrapped-federation",
   "metadata": {},
   "outputs": [
    {
     "data": {
      "text/plain": [
       "SignLangCnnModel(\n",
       "  (network): Sequential(\n",
       "    (0): Conv2d(3, 32, kernel_size=(3, 3), stride=(1, 1), padding=(1, 1))\n",
       "    (1): ReLU()\n",
       "    (2): Conv2d(32, 64, kernel_size=(3, 3), stride=(1, 1), padding=(1, 1))\n",
       "    (3): ReLU()\n",
       "    (4): MaxPool2d(kernel_size=2, stride=2, padding=0, dilation=1, ceil_mode=False)\n",
       "    (5): Conv2d(64, 128, kernel_size=(3, 3), stride=(1, 1), padding=(1, 1))\n",
       "    (6): ReLU()\n",
       "    (7): Conv2d(128, 128, kernel_size=(3, 3), stride=(1, 1), padding=(1, 1))\n",
       "    (8): ReLU()\n",
       "    (9): MaxPool2d(kernel_size=2, stride=2, padding=0, dilation=1, ceil_mode=False)\n",
       "    (10): Conv2d(128, 256, kernel_size=(3, 3), stride=(1, 1), padding=(1, 1))\n",
       "    (11): ReLU()\n",
       "    (12): Conv2d(256, 256, kernel_size=(3, 3), stride=(1, 1), padding=(1, 1))\n",
       "    (13): ReLU()\n",
       "    (14): MaxPool2d(kernel_size=2, stride=2, padding=0, dilation=1, ceil_mode=False)\n",
       "    (15): Flatten()\n",
       "    (16): Linear(in_features=16384, out_features=8192, bias=True)\n",
       "    (17): ReLU()\n",
       "    (18): Linear(in_features=8192, out_features=1024, bias=True)\n",
       "    (19): ReLU()\n",
       "    (20): Linear(in_features=1024, out_features=10, bias=True)\n",
       "  )\n",
       ")"
      ]
     },
     "execution_count": 12,
     "metadata": {},
     "output_type": "execute_result"
    }
   ],
   "source": [
    "\n",
    "model = SignLangCnnModel()\n",
    "model"
   ]
  },
  {
   "cell_type": "code",
   "execution_count": 13,
   "id": "separate-karen",
   "metadata": {},
   "outputs": [],
   "source": [
    "def get_default_device():\n",
    "    \"\"\"Pick GPU if available, else CPU\"\"\"\n",
    "    if torch.cuda.is_available():\n",
    "        return torch.device('cuda')\n",
    "    else:\n",
    "        return torch.device('cpu')\n",
    "    \n",
    "def to_device(data, device):\n",
    "    \"\"\"Move tensor(s) to chosen device\"\"\"\n",
    "    if isinstance(data, (list,tuple)):\n",
    "        return [to_device(x, device) for x in data]\n",
    "    return data.to(device, non_blocking=True)\n",
    "\n",
    "class DeviceDataLoader():\n",
    "    \"\"\"Wrap a dataloader to move data to a device\"\"\"\n",
    "    def __init__(self, dl, device):\n",
    "        self.dl = dl\n",
    "        self.device = device\n",
    "        \n",
    "    def __iter__(self):\n",
    "        \"\"\"Yield a batch of data after moving it to device\"\"\"\n",
    "        for b in self.dl: \n",
    "            yield to_device(b, self.device)\n",
    "\n",
    "    def __len__(self):\n",
    "        \"\"\"Number of batches\"\"\"\n",
    "        return len(self.dl)"
   ]
  },
  {
   "cell_type": "code",
   "execution_count": 14,
   "id": "thick-amount",
   "metadata": {},
   "outputs": [
    {
     "data": {
      "text/plain": [
       "device(type='cpu')"
      ]
     },
     "execution_count": 14,
     "metadata": {},
     "output_type": "execute_result"
    }
   ],
   "source": [
    "#device = get_default_device()\n",
    "device = torch.device('cpu')\n",
    "device"
   ]
  },
  {
   "cell_type": "code",
   "execution_count": 15,
   "id": "alike-provider",
   "metadata": {},
   "outputs": [],
   "source": [
    "train_dl = DeviceDataLoader(train_dl, device)\n",
    "val_dl = DeviceDataLoader(val_dl, device)\n",
    "to_device(model, device);"
   ]
  },
  {
   "cell_type": "code",
   "execution_count": 16,
   "id": "aquatic-thailand",
   "metadata": {},
   "outputs": [],
   "source": [
    "def evaluate(model, val_loader):\n",
    "    model.eval()\n",
    "    outputs = [model.validation_step(batch) for batch in val_loader]\n",
    "    return model.validation_epoch_end(outputs)\n",
    "\n",
    "def fit(epochs, lr, model, train_loader, val_loader, opt_func=torch.optim.SGD):\n",
    "    history = []\n",
    "    optimizer = opt_func(model.parameters(), lr)\n",
    "    for epoch in range(epochs):\n",
    "        # Training Phase \n",
    "        model.train()\n",
    "        train_losses = []\n",
    "        for batch in train_loader:\n",
    "            loss = model.training_step(batch)\n",
    "            train_losses.append(loss)\n",
    "            loss.backward()\n",
    "            optimizer.step()\n",
    "            optimizer.zero_grad()\n",
    "        # Validation phase\n",
    "        result = evaluate(model, val_loader)\n",
    "        result['train_loss'] = torch.stack(train_losses).mean().item()\n",
    "        model.epoch_end(epoch, result)\n",
    "        history.append(result)\n",
    "    return history"
   ]
  },
  {
   "cell_type": "code",
   "execution_count": 17,
   "id": "reflected-hypothetical",
   "metadata": {},
   "outputs": [],
   "source": [
    "num_epochs = 30\n",
    "opt_func = torch.optim.Adam\n",
    "lr = 0.0001"
   ]
  },
  {
   "cell_type": "code",
   "execution_count": 18,
   "id": "eight-madison",
   "metadata": {},
   "outputs": [
    {
     "data": {
      "text/plain": [
       "{'val_loss': 2.3020644187927246, 'val_acc': 0.10679611563682556}"
      ]
     },
     "execution_count": 18,
     "metadata": {},
     "output_type": "execute_result"
    }
   ],
   "source": [
    "evaluate(model, val_dl)"
   ]
  },
  {
   "cell_type": "code",
   "execution_count": 19,
   "id": "ahead-boundary",
   "metadata": {},
   "outputs": [
    {
     "name": "stdout",
     "output_type": "stream",
     "text": [
      "Epoch [0], train_loss: 2.3045, val_loss: 2.3028, val_acc: 0.1068\n",
      "Epoch [1], train_loss: 2.3028, val_loss: 2.3030, val_acc: 0.1068\n",
      "Epoch [2], train_loss: 2.2979, val_loss: 2.2909, val_acc: 0.1019\n",
      "Epoch [3], train_loss: 2.1819, val_loss: 1.8631, val_acc: 0.4660\n",
      "Epoch [4], train_loss: 1.4621, val_loss: 1.4733, val_acc: 0.4369\n",
      "Epoch [5], train_loss: 1.0494, val_loss: 0.8684, val_acc: 0.7136\n",
      "Epoch [6], train_loss: 0.7912, val_loss: 0.6045, val_acc: 0.7864\n",
      "Epoch [7], train_loss: 0.6829, val_loss: 0.5154, val_acc: 0.8301\n",
      "Epoch [8], train_loss: 0.5035, val_loss: 0.3587, val_acc: 0.8981\n",
      "Epoch [9], train_loss: 0.4254, val_loss: 0.3400, val_acc: 0.9126\n",
      "Epoch [10], train_loss: 0.3659, val_loss: 0.4279, val_acc: 0.8738\n",
      "Epoch [11], train_loss: 0.3432, val_loss: 0.2957, val_acc: 0.9078\n",
      "Epoch [12], train_loss: 0.2491, val_loss: 0.2535, val_acc: 0.9320\n",
      "Epoch [13], train_loss: 0.2109, val_loss: 0.2182, val_acc: 0.9515\n",
      "Epoch [14], train_loss: 0.2084, val_loss: 0.3172, val_acc: 0.8786\n",
      "Epoch [15], train_loss: 0.2673, val_loss: 0.2626, val_acc: 0.9175\n",
      "Epoch [16], train_loss: 0.2109, val_loss: 0.1632, val_acc: 0.9612\n",
      "Epoch [17], train_loss: 0.1580, val_loss: 0.1495, val_acc: 0.9417\n",
      "Epoch [18], train_loss: 0.1257, val_loss: 0.1518, val_acc: 0.9660\n",
      "Epoch [19], train_loss: 0.0975, val_loss: 0.1755, val_acc: 0.9515\n",
      "Epoch [20], train_loss: 0.0673, val_loss: 0.1078, val_acc: 0.9660\n",
      "Epoch [21], train_loss: 0.0522, val_loss: 0.1121, val_acc: 0.9757\n",
      "Epoch [22], train_loss: 0.0447, val_loss: 0.1075, val_acc: 0.9660\n",
      "Epoch [23], train_loss: 0.0376, val_loss: 0.0888, val_acc: 0.9806\n",
      "Epoch [24], train_loss: 0.0262, val_loss: 0.1086, val_acc: 0.9757\n",
      "Epoch [25], train_loss: 0.0358, val_loss: 0.1030, val_acc: 0.9757\n",
      "Epoch [26], train_loss: 0.0220, val_loss: 0.0965, val_acc: 0.9806\n",
      "Epoch [27], train_loss: 0.0244, val_loss: 0.0895, val_acc: 0.9660\n",
      "Epoch [28], train_loss: 0.0437, val_loss: 0.2135, val_acc: 0.9515\n",
      "Epoch [29], train_loss: 0.0273, val_loss: 0.0857, val_acc: 0.9709\n"
     ]
    }
   ],
   "source": [
    "history = fit(num_epochs, lr, model, train_dl, val_dl, opt_func)"
   ]
  },
  {
   "cell_type": "code",
   "execution_count": 43,
   "id": "contrary-arkansas",
   "metadata": {},
   "outputs": [
    {
     "data": {
      "text/plain": [
       "[{'val_loss': 2.3028483390808105,\n",
       "  'val_acc': 0.10679611563682556,\n",
       "  'train_loss': 2.304457187652588},\n",
       " {'val_loss': 2.3029749393463135,\n",
       "  'val_acc': 0.10679611563682556,\n",
       "  'train_loss': 2.3028130531311035},\n",
       " {'val_loss': 2.290879249572754,\n",
       "  'val_acc': 0.10194174945354462,\n",
       "  'train_loss': 2.2979280948638916},\n",
       " {'val_loss': 1.863071322441101,\n",
       "  'val_acc': 0.4660194218158722,\n",
       "  'train_loss': 2.181894540786743},\n",
       " {'val_loss': 1.47329580783844,\n",
       "  'val_acc': 0.43689319491386414,\n",
       "  'train_loss': 1.4620918035507202},\n",
       " {'val_loss': 0.868367075920105,\n",
       "  'val_acc': 0.7135922312736511,\n",
       "  'train_loss': 1.0493539571762085},\n",
       " {'val_loss': 0.6044613718986511,\n",
       "  'val_acc': 0.7864077687263489,\n",
       "  'train_loss': 0.7911746501922607},\n",
       " {'val_loss': 0.5153529644012451,\n",
       "  'val_acc': 0.8300970792770386,\n",
       "  'train_loss': 0.6828641891479492},\n",
       " {'val_loss': 0.35873112082481384,\n",
       "  'val_acc': 0.8980582356452942,\n",
       "  'train_loss': 0.5035483837127686},\n",
       " {'val_loss': 0.3399820923805237,\n",
       "  'val_acc': 0.9126213788986206,\n",
       "  'train_loss': 0.42540761828422546},\n",
       " {'val_loss': 0.42785343527793884,\n",
       "  'val_acc': 0.8737863898277283,\n",
       "  'train_loss': 0.36589735746383667},\n",
       " {'val_loss': 0.2956613004207611,\n",
       "  'val_acc': 0.9077669978141785,\n",
       "  'train_loss': 0.3431953191757202},\n",
       " {'val_loss': 0.25351351499557495,\n",
       "  'val_acc': 0.9320388436317444,\n",
       "  'train_loss': 0.249128058552742},\n",
       " {'val_loss': 0.21823742985725403,\n",
       "  'val_acc': 0.9514563083648682,\n",
       "  'train_loss': 0.21087609231472015},\n",
       " {'val_loss': 0.31723928451538086,\n",
       "  'val_acc': 0.8786407709121704,\n",
       "  'train_loss': 0.20836275815963745},\n",
       " {'val_loss': 0.2626379728317261,\n",
       "  'val_acc': 0.917475700378418,\n",
       "  'train_loss': 0.26725342869758606},\n",
       " {'val_loss': 0.16322535276412964,\n",
       "  'val_acc': 0.9611650705337524,\n",
       "  'train_loss': 0.21093320846557617},\n",
       " {'val_loss': 0.14947789907455444,\n",
       "  'val_acc': 0.9417475461959839,\n",
       "  'train_loss': 0.15804915130138397},\n",
       " {'val_loss': 0.1517551988363266,\n",
       "  'val_acc': 0.9660193920135498,\n",
       "  'train_loss': 0.12572114169597626},\n",
       " {'val_loss': 0.17551863193511963,\n",
       "  'val_acc': 0.9514563083648682,\n",
       "  'train_loss': 0.09749670326709747},\n",
       " {'val_loss': 0.10777892172336578,\n",
       "  'val_acc': 0.9660193920135498,\n",
       "  'train_loss': 0.06733438372612},\n",
       " {'val_loss': 0.11210252344608307,\n",
       "  'val_acc': 0.9757281541824341,\n",
       "  'train_loss': 0.052171386778354645},\n",
       " {'val_loss': 0.10746840387582779,\n",
       "  'val_acc': 0.9660193920135498,\n",
       "  'train_loss': 0.04465705156326294},\n",
       " {'val_loss': 0.08878537267446518,\n",
       "  'val_acc': 0.9805825352668762,\n",
       "  'train_loss': 0.0376303531229496},\n",
       " {'val_loss': 0.10864842683076859,\n",
       "  'val_acc': 0.9757281541824341,\n",
       "  'train_loss': 0.026241637766361237},\n",
       " {'val_loss': 0.10304076969623566,\n",
       "  'val_acc': 0.9757281541824341,\n",
       "  'train_loss': 0.035776250064373016},\n",
       " {'val_loss': 0.09647498279809952,\n",
       "  'val_acc': 0.9805825352668762,\n",
       "  'train_loss': 0.02197391539812088},\n",
       " {'val_loss': 0.08952271938323975,\n",
       "  'val_acc': 0.9660193920135498,\n",
       "  'train_loss': 0.024438364431262016},\n",
       " {'val_loss': 0.21353894472122192,\n",
       "  'val_acc': 0.9514563083648682,\n",
       "  'train_loss': 0.04365731030702591},\n",
       " {'val_loss': 0.08569828420877457,\n",
       "  'val_acc': 0.9708737730979919,\n",
       "  'train_loss': 0.02726382203400135}]"
      ]
     },
     "execution_count": 43,
     "metadata": {},
     "output_type": "execute_result"
    }
   ],
   "source": [
    "history"
   ]
  },
  {
   "cell_type": "code",
   "execution_count": null,
   "id": "geographic-timber",
   "metadata": {},
   "outputs": [],
   "source": [
    "results = model.evaluate(test_sequences, y_test, verbose=0)"
   ]
  },
  {
   "cell_type": "code",
   "execution_count": null,
   "id": "convertible-touch",
   "metadata": {},
   "outputs": [],
   "source": [
    "np_array = np.array(history)"
   ]
  },
  {
   "cell_type": "code",
   "execution_count": null,
   "id": "bearing-subcommittee",
   "metadata": {},
   "outputs": [],
   "source": [
    "reshaped_array = np.reshape(np_array, (15, 1))"
   ]
  },
  {
   "cell_type": "code",
   "execution_count": null,
   "id": "possible-qualification",
   "metadata": {},
   "outputs": [],
   "source": [
    "reshaped_array"
   ]
  },
  {
   "cell_type": "code",
   "execution_count": null,
   "id": "alpha-denial",
   "metadata": {},
   "outputs": [],
   "source": [
    "def predict_image(img, model):\n",
    "    # Convert to a batch of 1\n",
    "    xb = to_device(img.unsqueeze(0), device)\n",
    "    # Get predictions from model\n",
    "    yb = model(xb)\n",
    "    # Pick index with highest probability\n",
    "    _, preds  = torch.max(yb, dim=1)\n",
    "    # Retrieve the class label\n",
    "    return dataset.classes[preds[0].item()]"
   ]
  },
  {
   "cell_type": "code",
   "execution_count": null,
   "id": "committed-cookbook",
   "metadata": {},
   "outputs": [],
   "source": [
    "img, label = test_ds[0]\n",
    "plt.imshow(img[0], cmap='gray')\n",
    "print('Label:', label, ', Predicted:', predict_image(img, model))"
   ]
  },
  {
   "cell_type": "code",
   "execution_count": null,
   "id": "demonstrated-addition",
   "metadata": {},
   "outputs": [],
   "source": [
    "img, label = test_ds[6]\n",
    "plt.imshow(img[0], cmap='gray')\n",
    "print('Label:', label, ', Predicted:', predict_image(img, model))"
   ]
  },
  {
   "cell_type": "code",
   "execution_count": null,
   "id": "minus-supplier",
   "metadata": {},
   "outputs": [],
   "source": [
    "img, label = test_ds[2]\n",
    "plt.imshow(img[0], cmap='gray')\n",
    "print('Label:', label, ', Predicted:', predict_image(img, model))"
   ]
  },
  {
   "cell_type": "code",
   "execution_count": null,
   "id": "mounted-stereo",
   "metadata": {},
   "outputs": [],
   "source": [
    "img, label = test_ds[4]\n",
    "plt.imshow(img[0], cmap='gray')\n",
    "print('Label:', label, ', Predicted:', predict_image(img, model))"
   ]
  },
  {
   "cell_type": "code",
   "execution_count": null,
   "id": "twenty-mineral",
   "metadata": {},
   "outputs": [],
   "source": []
  },
  {
   "cell_type": "code",
   "execution_count": null,
   "id": "alpha-corrections",
   "metadata": {},
   "outputs": [],
   "source": [
    "test_loader = DeviceDataLoader(DataLoader(test_ds, batch_size*2), device)\n",
    "result = evaluate(model, test_loader)\n",
    "result"
   ]
  },
  {
   "cell_type": "markdown",
   "id": "moving-poverty",
   "metadata": {},
   "source": [
    "# Prueba 2, con Keras"
   ]
  },
  {
   "cell_type": "code",
   "execution_count": 21,
   "id": "short-organic",
   "metadata": {},
   "outputs": [],
   "source": [
    "X = np.load('./X.npy')\n",
    "Y = np.load('./Y.npy')"
   ]
  },
  {
   "cell_type": "code",
   "execution_count": 22,
   "id": "sophisticated-calibration",
   "metadata": {},
   "outputs": [
    {
     "name": "stdout",
     "output_type": "stream",
     "text": [
      "(1649, 64, 64, 1)\n",
      "(1649, 10)\n",
      "(413, 64, 64, 1)\n",
      "(413, 10)\n"
     ]
    }
   ],
   "source": [
    "from sklearn.model_selection import train_test_split\n",
    "xTrain, xTest, yTrain, yTest = train_test_split(X, Y, test_size = 0.20, random_state = 42)\n",
    "\n",
    "xTrain = xTrain.reshape(-1,64,64,1)\n",
    "xTest = xTest.reshape(-1,64,64,1)\n",
    "\n",
    "print(xTrain.shape)\n",
    "print(yTrain.shape)\n",
    "print(xTest.shape)\n",
    "print(yTest.shape)"
   ]
  },
  {
   "cell_type": "code",
   "execution_count": 23,
   "id": "documented-remainder",
   "metadata": {},
   "outputs": [],
   "source": [
    "from sklearn.metrics import confusion_matrix\n",
    "import itertools\n",
    "\n",
    "from keras.utils.np_utils import to_categorical # convert to one-hot-encoding\n",
    "from keras.models import Sequential\n",
    "from keras.layers import Dense, Dropout, Flatten, Conv2D, MaxPool2D, BatchNormalization\n",
    "from keras.optimizers import RMSprop,Adam\n",
    "from keras.preprocessing.image import ImageDataGenerator\n",
    "from keras.callbacks import ReduceLROnPlateau\n",
    "from keras.callbacks import LearningRateScheduler\n",
    "\n",
    "model = Sequential()\n",
    "\n",
    "model.add(Conv2D(filters = 64, kernel_size = (5,5),padding = 'Same', activation = 'relu', input_shape = (64,64,1)))\n",
    "model.add(BatchNormalization())\n",
    "model.add(Conv2D(filters = 64, kernel_size = (5,5),padding = 'Same', activation = 'relu'))\n",
    "model.add(BatchNormalization())\n",
    "model.add(MaxPool2D(pool_size = (2,2)))\n",
    "model.add(Dropout(0.25))\n",
    "\n",
    "model.add(Conv2D(filters = 32, kernel_size = (4,4),padding = 'Same', activation = 'relu'))\n",
    "model.add(BatchNormalization())\n",
    "model.add(Conv2D(filters = 32, kernel_size = (4,4),padding = 'Same', activation = 'relu'))\n",
    "model.add(BatchNormalization())\n",
    "model.add(MaxPool2D(pool_size=(2,2), strides = (2,2)))\n",
    "model.add(Dropout(0.25))\n",
    "\n",
    "model.add(Conv2D(filters = 16, kernel_size = (3,3),padding = 'Same', activation = 'relu'))\n",
    "model.add(BatchNormalization())\n",
    "model.add(MaxPool2D(pool_size = (2,2)))\n",
    "model.add(Dropout(0.25))\n",
    "\n",
    "model.add(Flatten())\n",
    "model.add(Dense(512, activation='relu'))\n",
    "model.add(Dropout(0.25))\n",
    "model.add(Dense(1024, activation='relu'))\n",
    "model.add(Dropout(0.5))\n",
    "model.add(Dense(10, activation='softmax'))"
   ]
  },
  {
   "cell_type": "code",
   "execution_count": 24,
   "id": "advisory-trial",
   "metadata": {},
   "outputs": [],
   "source": [
    "optimizer = Adam(lr = 0.002, beta_1 = 0.9, beta_2 = 0.999)"
   ]
  },
  {
   "cell_type": "code",
   "execution_count": 25,
   "id": "daily-breathing",
   "metadata": {},
   "outputs": [],
   "source": [
    "model.compile(optimizer = optimizer , loss = \"categorical_crossentropy\", metrics = [\"accuracy\"])"
   ]
  },
  {
   "cell_type": "code",
   "execution_count": 26,
   "id": "driving-proportion",
   "metadata": {},
   "outputs": [],
   "source": [
    "epochs = 30 # 1 epoch means 1 forward and 1 backward pass.\n",
    "batch_size = 20"
   ]
  },
  {
   "cell_type": "code",
   "execution_count": 27,
   "id": "developing-chest",
   "metadata": {},
   "outputs": [],
   "source": [
    "datagen = ImageDataGenerator(\n",
    "        featurewise_center = False,  # set input mean to 0 over the dataset\n",
    "        samplewise_center = False,  # set each sample mean to 0\n",
    "        featurewise_std_normalization = False,  # divide inputs by std of the dataset\n",
    "        samplewise_std_normalization = False,  # divide each input by its std\n",
    "        zca_whitening = False,  # dimesion reduction\n",
    "        rotation_range = 10,  # randomly rotate images in the range 10 degrees\n",
    "        zoom_range = 0.1, # Randomly zoom image 1%\n",
    "        width_shift_range = 0.1,  # randomly shift images horizontally 1%\n",
    "        height_shift_range = 0.1,  # randomly shift images vertically 1%\n",
    "        horizontal_flip = False,  # randomly flip images\n",
    "        vertical_flip = False)  # randomly flip images\n",
    "\n",
    "datagen.fit(xTrain)"
   ]
  },
  {
   "cell_type": "code",
   "execution_count": 28,
   "id": "synthetic-lighter",
   "metadata": {},
   "outputs": [],
   "source": [
    "annealer = LearningRateScheduler(lambda x: 1e-3 * 0.9 ** x)"
   ]
  },
  {
   "cell_type": "code",
   "execution_count": 29,
   "id": "effective-palace",
   "metadata": {},
   "outputs": [
    {
     "name": "stdout",
     "output_type": "stream",
     "text": [
      "WARNING:tensorflow:From <ipython-input-29-1094781fc6cd>:1: Model.fit_generator (from tensorflow.python.keras.engine.training) is deprecated and will be removed in a future version.\n",
      "Instructions for updating:\n",
      "Please use Model.fit, which supports generators.\n",
      "Epoch 1/30\n",
      "82/82 [==============================] - 102s 1s/step - loss: 2.1539 - accuracy: 0.3106 - val_loss: 3.0616 - val_accuracy: 0.0920\n",
      "Epoch 2/30\n",
      "82/82 [==============================] - 103s 1s/step - loss: 1.1240 - accuracy: 0.6231 - val_loss: 4.0282 - val_accuracy: 0.0969\n",
      "Epoch 3/30\n",
      "82/82 [==============================] - 105s 1s/step - loss: 0.8572 - accuracy: 0.7262 - val_loss: 4.2973 - val_accuracy: 0.1598\n",
      "Epoch 4/30\n",
      "82/82 [==============================] - 104s 1s/step - loss: 0.5859 - accuracy: 0.7931 - val_loss: 3.4001 - val_accuracy: 0.3220\n",
      "Epoch 5/30\n",
      "82/82 [==============================] - 103s 1s/step - loss: 0.4669 - accuracy: 0.8514 - val_loss: 4.0951 - val_accuracy: 0.3123\n",
      "Epoch 6/30\n",
      "82/82 [==============================] - 103s 1s/step - loss: 0.4140 - accuracy: 0.8643 - val_loss: 0.2825 - val_accuracy: 0.9104\n",
      "Epoch 7/30\n",
      "82/82 [==============================] - 103s 1s/step - loss: 0.3304 - accuracy: 0.8901 - val_loss: 0.2012 - val_accuracy: 0.9370\n",
      "Epoch 8/30\n",
      "82/82 [==============================] - 104s 1s/step - loss: 0.3412 - accuracy: 0.8944 - val_loss: 0.1413 - val_accuracy: 0.9540\n",
      "Epoch 9/30\n",
      "82/82 [==============================] - 104s 1s/step - loss: 0.2590 - accuracy: 0.9184 - val_loss: 0.0695 - val_accuracy: 0.9734\n",
      "Epoch 10/30\n",
      "82/82 [==============================] - 104s 1s/step - loss: 0.2236 - accuracy: 0.9257 - val_loss: 0.0660 - val_accuracy: 0.9806\n",
      "Epoch 11/30\n",
      "82/82 [==============================] - 111s 1s/step - loss: 0.1906 - accuracy: 0.9405 - val_loss: 0.0341 - val_accuracy: 0.9927\n",
      "Epoch 12/30\n",
      "82/82 [==============================] - 104s 1s/step - loss: 0.1817 - accuracy: 0.9386 - val_loss: 0.0297 - val_accuracy: 0.9927\n",
      "Epoch 13/30\n",
      "82/82 [==============================] - 104s 1s/step - loss: 0.1630 - accuracy: 0.9478 - val_loss: 0.0762 - val_accuracy: 0.9782\n",
      "Epoch 14/30\n",
      "82/82 [==============================] - 105s 1s/step - loss: 0.1555 - accuracy: 0.9484 - val_loss: 0.0427 - val_accuracy: 0.9831\n",
      "Epoch 15/30\n",
      "82/82 [==============================] - 103s 1s/step - loss: 0.1510 - accuracy: 0.9503 - val_loss: 0.0345 - val_accuracy: 0.9879\n",
      "Epoch 16/30\n",
      "82/82 [==============================] - 114s 1s/step - loss: 0.1187 - accuracy: 0.9619 - val_loss: 0.0176 - val_accuracy: 0.9952\n",
      "Epoch 17/30\n",
      "82/82 [==============================] - 109s 1s/step - loss: 0.1016 - accuracy: 0.9711 - val_loss: 0.0147 - val_accuracy: 0.9952\n",
      "Epoch 18/30\n",
      "82/82 [==============================] - 109s 1s/step - loss: 0.1206 - accuracy: 0.9626 - val_loss: 0.0492 - val_accuracy: 0.9831\n",
      "Epoch 19/30\n",
      "82/82 [==============================] - 108s 1s/step - loss: 0.1003 - accuracy: 0.9711 - val_loss: 0.0257 - val_accuracy: 0.9903\n",
      "Epoch 20/30\n",
      "82/82 [==============================] - 115s 1s/step - loss: 0.1322 - accuracy: 0.9632 - val_loss: 0.0456 - val_accuracy: 0.9758\n",
      "Epoch 21/30\n",
      "82/82 [==============================] - 113s 1s/step - loss: 0.1013 - accuracy: 0.9693 - val_loss: 0.0300 - val_accuracy: 0.9879\n",
      "Epoch 22/30\n",
      "82/82 [==============================] - 107s 1s/step - loss: 0.0927 - accuracy: 0.9767 - val_loss: 0.0169 - val_accuracy: 0.9952\n",
      "Epoch 23/30\n",
      "82/82 [==============================] - 119s 1s/step - loss: 0.0892 - accuracy: 0.9730 - val_loss: 0.1160 - val_accuracy: 0.9564\n",
      "Epoch 24/30\n",
      "82/82 [==============================] - 120s 1s/step - loss: 0.0836 - accuracy: 0.9748 - val_loss: 0.0216 - val_accuracy: 0.9927\n",
      "Epoch 25/30\n",
      "82/82 [==============================] - 116s 1s/step - loss: 0.0739 - accuracy: 0.9804 - val_loss: 0.0068 - val_accuracy: 1.0000\n",
      "Epoch 26/30\n",
      "82/82 [==============================] - 110s 1s/step - loss: 0.0649 - accuracy: 0.9804 - val_loss: 0.0080 - val_accuracy: 0.9976\n",
      "Epoch 27/30\n",
      "82/82 [==============================] - 106s 1s/step - loss: 0.0744 - accuracy: 0.9779 - val_loss: 0.0224 - val_accuracy: 0.9903\n",
      "Epoch 28/30\n",
      "82/82 [==============================] - 106s 1s/step - loss: 0.0591 - accuracy: 0.9853 - val_loss: 0.0065 - val_accuracy: 0.9976\n",
      "Epoch 29/30\n",
      "82/82 [==============================] - 104s 1s/step - loss: 0.0641 - accuracy: 0.9828 - val_loss: 0.0096 - val_accuracy: 0.9952\n",
      "Epoch 30/30\n",
      "82/82 [==============================] - 105s 1s/step - loss: 0.0831 - accuracy: 0.9724 - val_loss: 0.0048 - val_accuracy: 1.0000\n"
     ]
    }
   ],
   "source": [
    "history2 = model.fit_generator(datagen.flow(xTrain,\n",
    "                                           yTrain, \n",
    "                                           batch_size = batch_size), \n",
    "                              epochs = 30, \n",
    "                              validation_data = (xTest, yTest), \n",
    "                              steps_per_epoch = xTrain.shape[0] // batch_size,\n",
    "                              callbacks = [annealer])"
   ]
  },
  {
   "cell_type": "code",
   "execution_count": 30,
   "id": "searching-nitrogen",
   "metadata": {},
   "outputs": [
    {
     "data": {
      "image/png": "[encoded data removed]",
      "text/plain": [
       "<Figure size 432x288 with 1 Axes>"
      ]
     },
     "metadata": {
      "needs_background": "light"
     },
     "output_type": "display_data"
    }
   ],
   "source": [
    "plt.plot(history2.history['val_loss'], color = 'b', label = \"validation loss\")\n",
    "plt.title(\"Test Loss\")\n",
    "plt.xlabel(\"Number of Epochs\")\n",
    "plt.ylabel(\"Loss\")\n",
    "plt.legend()\n",
    "plt.show()\n",
    "\n"
   ]
  },
  {
   "cell_type": "code",
   "execution_count": 40,
   "id": "military-orleans",
   "metadata": {},
   "outputs": [
    {
     "data": {
      "image/png": "[encoded data removed]",
      "text/plain": [
       "<Figure size 432x288 with 1 Axes>"
      ]
     },
     "metadata": {
      "needs_background": "light"
     },
     "output_type": "display_data"
    }
   ],
   "source": [
    "plt.plot(history2.history['val_accuracy'], color = 'r', label = \"Validation Accuracy\")\n",
    "plt.plot(history2.history['accuracy'], color = 'b', label = \"Test Accuracy\")\n",
    "plt.title(\"Model Accuracy\")\n",
    "plt.xlabel(\"Number of Epochs\")\n",
    "plt.ylabel(\"Accuracy\")\n",
    "plt.legend()\n",
    "plt.show()\n"
   ]
  },
  {
   "cell_type": "code",
   "execution_count": 41,
   "id": "prescription-indiana",
   "metadata": {},
   "outputs": [
    {
     "data": {
      "image/png": "[encoded data removed]",
      "text/plain": [
       "<Figure size 432x288 with 1 Axes>"
      ]
     },
     "metadata": {
      "needs_background": "light"
     },
     "output_type": "display_data"
    }
   ],
   "source": [
    "plt.plot(history2.history['val_loss'], color = 'r', label = \"Validation Loss\")\n",
    "plt.plot(history2.history['loss'], color = 'b', label = \"Test Loss\")\n",
    "plt.title(\"Model Loss\")\n",
    "plt.xlabel(\"Number of Epochs\")\n",
    "plt.ylabel(\"Loss\")\n",
    "plt.legend()\n",
    "plt.show()"
   ]
  },
  {
   "cell_type": "code",
   "execution_count": null,
   "id": "chemical-nickel",
   "metadata": {},
   "outputs": [],
   "source": []
  },
  {
   "cell_type": "code",
   "execution_count": null,
   "id": "clean-industry",
   "metadata": {},
   "outputs": [],
   "source": []
  },
  {
   "cell_type": "code",
   "execution_count": null,
   "id": "experimental-impact",
   "metadata": {},
   "outputs": [],
   "source": []
  },
  {
   "cell_type": "code",
   "execution_count": null,
   "id": "early-queens",
   "metadata": {},
   "outputs": [],
   "source": []
  }
 ],
 "metadata": {
  "kernelspec": {
   "display_name": "Python 3",
   "language": "python",
   "name": "python3"
  },
  "language_info": {
   "codemirror_mode": {
    "name": "ipython",
    "version": 3
   },
   "file_extension": ".py",
   "mimetype": "text/x-python",
   "name": "python",
   "nbconvert_exporter": "python",
   "pygments_lexer": "ipython3",
   "version": "3.8.5"
  }
 },
 "nbformat": 4,
 "nbformat_minor": 5
}
